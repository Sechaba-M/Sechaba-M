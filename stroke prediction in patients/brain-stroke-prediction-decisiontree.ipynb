{
 "cells": [
  {
   "cell_type": "markdown",
   "id": "be183510",
   "metadata": {
    "papermill": {
     "duration": 0.015384,
     "end_time": "2024-05-17T10:44:22.715850",
     "exception": false,
     "start_time": "2024-05-17T10:44:22.700466",
     "status": "completed"
    },
    "tags": []
   },
   "source": [
    "# <h1 style='background:#C4F1E8; border:2; border-radius: 10px; font-size:250%; font-weight: bold; color:black'><center>Brain Stroke Prediction</center></h1> \n",
    " \n",
    "<img src = \"https://www.news-medical.net/image.axd?picture=2021%2F11%2Fshutterstock_1488035675-1.jpg\" width = 500 height = 400/>\n",
    "\n",
    "A stroke is an interruption of the blood supply to any part of the brain. If blood flow was stopped for longer than a few seconds and the brain cannot get blood and oxygen, brain cells can die, and the abilities controlled by that area of the brain are lost.\n",
    "In this Notebook we will use some features to see wether we will be able to predict the stoke or not? \n",
    "<a id='top'></a>\n",
    "<div class=\"list-group\" id=\"list-tab\" role=\"tablist\">\n",
    "    \n",
    "<h1 style='background:#C4F1E8; border:0; border-radius: 10px; color:black'><center> TABLE OF CONTENTS </center></h1>\n",
    "\n",
    "### [**1. IMPORTING LIBRARIES AND LOADING DATA**](#title-one)\n",
    "\n",
    "### [**2. DATA EXPLORATION**](#title-two)\n",
    "  \n",
    "### [**3. VIZUALIZATION**](#title-four) \n",
    "    \n",
    "### [**4. DATA PREPROCESSING**](#title-five)\n",
    "\n",
    "### [**5. MODEL BUILDING**](#title-six)\n",
    "    \n",
    "<a id=\"title-one\"></a>\n",
    "<h1 style='background:#C4F1E8; border:2; border-radius: 10px; color:black'><center>IMPORTING LIBRARIES AND LOADING DATA</center></h1>"
   ]
  },
  {
   "cell_type": "code",
   "execution_count": 1,
   "id": "0adc4ee3",
   "metadata": {
    "_cell_guid": "b1076dfc-b9ad-4769-8c92-a6c4dae69d19",
    "_uuid": "8f2839f25d086af736a60e9eeb907d3b93b6e0e5",
    "execution": {
     "iopub.execute_input": "2024-05-17T10:44:22.745519Z",
     "iopub.status.busy": "2024-05-17T10:44:22.745111Z",
     "iopub.status.idle": "2024-05-17T10:44:24.144857Z",
     "shell.execute_reply": "2024-05-17T10:44:24.143917Z"
    },
    "papermill": {
     "duration": 1.417879,
     "end_time": "2024-05-17T10:44:24.147725",
     "exception": false,
     "start_time": "2024-05-17T10:44:22.729846",
     "status": "completed"
    },
    "tags": []
   },
   "outputs": [
    {
     "name": "stdout",
     "output_type": "stream",
     "text": [
      "/kaggle/input/full-filled-brain-stroke-dataset/full_data.csv\n",
      "/kaggle/input/full-filled-brain-stroke-dataset/full_filled_stroke_data (1).csv\n"
     ]
    }
   ],
   "source": [
    "import numpy as np \n",
    "import pandas as pd \n",
    "import os\n",
    "import matplotlib.pyplot as plt\n",
    "import seaborn as sns\n",
    "for dirname, _, filenames in os.walk('/kaggle/input'):\n",
    "    for filename in filenames:\n",
    "        print(os.path.join(dirname, filename))\n",
    "import warnings\n",
    "from collections import Counter\n",
    "warnings.filterwarnings('ignore')\n",
    "from sklearn.tree import DecisionTreeClassifier\n",
    "from sklearn.model_selection import train_test_split\n",
    "from sklearn.metrics import accuracy_score\n",
    "from sklearn.metrics import precision_score, recall_score, f1_score\n",
    "from sklearn.metrics import confusion_matrix,classification_report\n",
    "from imblearn.under_sampling import RandomUnderSampler\n",
    "from sklearn.ensemble import RandomForestClassifier\n",
    "from sklearn.model_selection import train_test_split,GridSearchCV"
   ]
  },
  {
   "cell_type": "code",
   "execution_count": 2,
   "id": "96222bda",
   "metadata": {
    "execution": {
     "iopub.execute_input": "2024-05-17T10:44:24.187584Z",
     "iopub.status.busy": "2024-05-17T10:44:24.186695Z",
     "iopub.status.idle": "2024-05-17T10:44:24.239061Z",
     "shell.execute_reply": "2024-05-17T10:44:24.238100Z"
    },
    "papermill": {
     "duration": 0.075033,
     "end_time": "2024-05-17T10:44:24.241227",
     "exception": false,
     "start_time": "2024-05-17T10:44:24.166194",
     "status": "completed"
    },
    "tags": []
   },
   "outputs": [
    {
     "data": {
      "text/html": [
       "<div>\n",
       "<style scoped>\n",
       "    .dataframe tbody tr th:only-of-type {\n",
       "        vertical-align: middle;\n",
       "    }\n",
       "\n",
       "    .dataframe tbody tr th {\n",
       "        vertical-align: top;\n",
       "    }\n",
       "\n",
       "    .dataframe thead th {\n",
       "        text-align: right;\n",
       "    }\n",
       "</style>\n",
       "<table border=\"1\" class=\"dataframe\">\n",
       "  <thead>\n",
       "    <tr style=\"text-align: right;\">\n",
       "      <th></th>\n",
       "      <th>gender</th>\n",
       "      <th>age</th>\n",
       "      <th>hypertension</th>\n",
       "      <th>heart_disease</th>\n",
       "      <th>ever_married</th>\n",
       "      <th>work_type</th>\n",
       "      <th>Residence_type</th>\n",
       "      <th>avg_glucose_level</th>\n",
       "      <th>bmi</th>\n",
       "      <th>smoking_status</th>\n",
       "      <th>stroke</th>\n",
       "    </tr>\n",
       "  </thead>\n",
       "  <tbody>\n",
       "    <tr>\n",
       "      <th>0</th>\n",
       "      <td>Male</td>\n",
       "      <td>67.0</td>\n",
       "      <td>0</td>\n",
       "      <td>1</td>\n",
       "      <td>Yes</td>\n",
       "      <td>Private</td>\n",
       "      <td>Urban</td>\n",
       "      <td>228.69</td>\n",
       "      <td>36.6</td>\n",
       "      <td>formerly smoked</td>\n",
       "      <td>1</td>\n",
       "    </tr>\n",
       "    <tr>\n",
       "      <th>1</th>\n",
       "      <td>Male</td>\n",
       "      <td>80.0</td>\n",
       "      <td>0</td>\n",
       "      <td>1</td>\n",
       "      <td>Yes</td>\n",
       "      <td>Private</td>\n",
       "      <td>Rural</td>\n",
       "      <td>105.92</td>\n",
       "      <td>32.5</td>\n",
       "      <td>never smoked</td>\n",
       "      <td>1</td>\n",
       "    </tr>\n",
       "    <tr>\n",
       "      <th>2</th>\n",
       "      <td>Female</td>\n",
       "      <td>49.0</td>\n",
       "      <td>0</td>\n",
       "      <td>0</td>\n",
       "      <td>Yes</td>\n",
       "      <td>Private</td>\n",
       "      <td>Urban</td>\n",
       "      <td>171.23</td>\n",
       "      <td>34.4</td>\n",
       "      <td>smokes</td>\n",
       "      <td>1</td>\n",
       "    </tr>\n",
       "    <tr>\n",
       "      <th>3</th>\n",
       "      <td>Female</td>\n",
       "      <td>79.0</td>\n",
       "      <td>1</td>\n",
       "      <td>0</td>\n",
       "      <td>Yes</td>\n",
       "      <td>Self-employed</td>\n",
       "      <td>Rural</td>\n",
       "      <td>174.12</td>\n",
       "      <td>24.0</td>\n",
       "      <td>never smoked</td>\n",
       "      <td>1</td>\n",
       "    </tr>\n",
       "    <tr>\n",
       "      <th>4</th>\n",
       "      <td>Male</td>\n",
       "      <td>81.0</td>\n",
       "      <td>0</td>\n",
       "      <td>0</td>\n",
       "      <td>Yes</td>\n",
       "      <td>Private</td>\n",
       "      <td>Urban</td>\n",
       "      <td>186.21</td>\n",
       "      <td>29.0</td>\n",
       "      <td>formerly smoked</td>\n",
       "      <td>1</td>\n",
       "    </tr>\n",
       "    <tr>\n",
       "      <th>5</th>\n",
       "      <td>Male</td>\n",
       "      <td>74.0</td>\n",
       "      <td>1</td>\n",
       "      <td>1</td>\n",
       "      <td>Yes</td>\n",
       "      <td>Private</td>\n",
       "      <td>Rural</td>\n",
       "      <td>70.09</td>\n",
       "      <td>27.4</td>\n",
       "      <td>never smoked</td>\n",
       "      <td>1</td>\n",
       "    </tr>\n",
       "    <tr>\n",
       "      <th>6</th>\n",
       "      <td>Female</td>\n",
       "      <td>69.0</td>\n",
       "      <td>0</td>\n",
       "      <td>0</td>\n",
       "      <td>No</td>\n",
       "      <td>Private</td>\n",
       "      <td>Urban</td>\n",
       "      <td>94.39</td>\n",
       "      <td>22.8</td>\n",
       "      <td>never smoked</td>\n",
       "      <td>1</td>\n",
       "    </tr>\n",
       "    <tr>\n",
       "      <th>7</th>\n",
       "      <td>Female</td>\n",
       "      <td>78.0</td>\n",
       "      <td>0</td>\n",
       "      <td>0</td>\n",
       "      <td>Yes</td>\n",
       "      <td>Private</td>\n",
       "      <td>Urban</td>\n",
       "      <td>58.57</td>\n",
       "      <td>24.2</td>\n",
       "      <td>Unknown</td>\n",
       "      <td>1</td>\n",
       "    </tr>\n",
       "    <tr>\n",
       "      <th>8</th>\n",
       "      <td>Female</td>\n",
       "      <td>81.0</td>\n",
       "      <td>1</td>\n",
       "      <td>0</td>\n",
       "      <td>Yes</td>\n",
       "      <td>Private</td>\n",
       "      <td>Rural</td>\n",
       "      <td>80.43</td>\n",
       "      <td>29.7</td>\n",
       "      <td>never smoked</td>\n",
       "      <td>1</td>\n",
       "    </tr>\n",
       "    <tr>\n",
       "      <th>9</th>\n",
       "      <td>Female</td>\n",
       "      <td>61.0</td>\n",
       "      <td>0</td>\n",
       "      <td>1</td>\n",
       "      <td>Yes</td>\n",
       "      <td>Govt_job</td>\n",
       "      <td>Rural</td>\n",
       "      <td>120.46</td>\n",
       "      <td>36.8</td>\n",
       "      <td>smokes</td>\n",
       "      <td>1</td>\n",
       "    </tr>\n",
       "  </tbody>\n",
       "</table>\n",
       "</div>"
      ],
      "text/plain": [
       "   gender   age  hypertension  heart_disease ever_married      work_type  \\\n",
       "0    Male  67.0             0              1          Yes        Private   \n",
       "1    Male  80.0             0              1          Yes        Private   \n",
       "2  Female  49.0             0              0          Yes        Private   \n",
       "3  Female  79.0             1              0          Yes  Self-employed   \n",
       "4    Male  81.0             0              0          Yes        Private   \n",
       "5    Male  74.0             1              1          Yes        Private   \n",
       "6  Female  69.0             0              0           No        Private   \n",
       "7  Female  78.0             0              0          Yes        Private   \n",
       "8  Female  81.0             1              0          Yes        Private   \n",
       "9  Female  61.0             0              1          Yes       Govt_job   \n",
       "\n",
       "  Residence_type  avg_glucose_level   bmi   smoking_status  stroke  \n",
       "0          Urban             228.69  36.6  formerly smoked       1  \n",
       "1          Rural             105.92  32.5     never smoked       1  \n",
       "2          Urban             171.23  34.4           smokes       1  \n",
       "3          Rural             174.12  24.0     never smoked       1  \n",
       "4          Urban             186.21  29.0  formerly smoked       1  \n",
       "5          Rural              70.09  27.4     never smoked       1  \n",
       "6          Urban              94.39  22.8     never smoked       1  \n",
       "7          Urban              58.57  24.2          Unknown       1  \n",
       "8          Rural              80.43  29.7     never smoked       1  \n",
       "9          Rural             120.46  36.8           smokes       1  "
      ]
     },
     "execution_count": 2,
     "metadata": {},
     "output_type": "execute_result"
    }
   ],
   "source": [
    "df = pd.read_csv('../input/full-filled-brain-stroke-dataset/full_data.csv')\n",
    "df.head(10)"
   ]
  },
  {
   "cell_type": "markdown",
   "id": "9c8144e3",
   "metadata": {
    "papermill": {
     "duration": 0.014386,
     "end_time": "2024-05-17T10:44:24.269985",
     "exception": false,
     "start_time": "2024-05-17T10:44:24.255599",
     "status": "completed"
    },
    "tags": []
   },
   "source": [
    "<a id=\"title-two\"></a>\n",
    "<h1 style='background:#C4F1E8; border:2; border-radius: 10px; color:black'><center>DATA EXPLORATION</center></h1>"
   ]
  },
  {
   "cell_type": "code",
   "execution_count": 3,
   "id": "d857e7ee",
   "metadata": {
    "execution": {
     "iopub.execute_input": "2024-05-17T10:44:24.300124Z",
     "iopub.status.busy": "2024-05-17T10:44:24.299813Z",
     "iopub.status.idle": "2024-05-17T10:44:24.324019Z",
     "shell.execute_reply": "2024-05-17T10:44:24.322939Z"
    },
    "papermill": {
     "duration": 0.041848,
     "end_time": "2024-05-17T10:44:24.326168",
     "exception": false,
     "start_time": "2024-05-17T10:44:24.284320",
     "status": "completed"
    },
    "tags": []
   },
   "outputs": [
    {
     "name": "stdout",
     "output_type": "stream",
     "text": [
      "<class 'pandas.core.frame.DataFrame'>\n",
      "RangeIndex: 4981 entries, 0 to 4980\n",
      "Data columns (total 11 columns):\n",
      " #   Column             Non-Null Count  Dtype  \n",
      "---  ------             --------------  -----  \n",
      " 0   gender             4981 non-null   object \n",
      " 1   age                4981 non-null   float64\n",
      " 2   hypertension       4981 non-null   int64  \n",
      " 3   heart_disease      4981 non-null   int64  \n",
      " 4   ever_married       4981 non-null   object \n",
      " 5   work_type          4981 non-null   object \n",
      " 6   Residence_type     4981 non-null   object \n",
      " 7   avg_glucose_level  4981 non-null   float64\n",
      " 8   bmi                4981 non-null   float64\n",
      " 9   smoking_status     4981 non-null   object \n",
      " 10  stroke             4981 non-null   int64  \n",
      "dtypes: float64(3), int64(3), object(5)\n",
      "memory usage: 428.2+ KB\n"
     ]
    }
   ],
   "source": [
    "df.info()"
   ]
  },
  {
   "cell_type": "markdown",
   "id": "1c6f63c5",
   "metadata": {
    "papermill": {
     "duration": 0.014644,
     "end_time": "2024-05-17T10:44:24.355509",
     "exception": false,
     "start_time": "2024-05-17T10:44:24.340865",
     "status": "completed"
    },
    "tags": []
   },
   "source": [
    "**Turning to Numerical**"
   ]
  },
  {
   "cell_type": "markdown",
   "id": "8b10dd3a",
   "metadata": {
    "papermill": {
     "duration": 0.014596,
     "end_time": "2024-05-17T10:44:24.384733",
     "exception": false,
     "start_time": "2024-05-17T10:44:24.370137",
     "status": "completed"
    },
    "tags": []
   },
   "source": [
    "## Numerical columns info"
   ]
  },
  {
   "cell_type": "code",
   "execution_count": 4,
   "id": "64eb5214",
   "metadata": {
    "execution": {
     "iopub.execute_input": "2024-05-17T10:44:24.415344Z",
     "iopub.status.busy": "2024-05-17T10:44:24.415014Z",
     "iopub.status.idle": "2024-05-17T10:44:24.446142Z",
     "shell.execute_reply": "2024-05-17T10:44:24.445146Z"
    },
    "papermill": {
     "duration": 0.049411,
     "end_time": "2024-05-17T10:44:24.448559",
     "exception": false,
     "start_time": "2024-05-17T10:44:24.399148",
     "status": "completed"
    },
    "tags": []
   },
   "outputs": [
    {
     "data": {
      "text/html": [
       "<div>\n",
       "<style scoped>\n",
       "    .dataframe tbody tr th:only-of-type {\n",
       "        vertical-align: middle;\n",
       "    }\n",
       "\n",
       "    .dataframe tbody tr th {\n",
       "        vertical-align: top;\n",
       "    }\n",
       "\n",
       "    .dataframe thead th {\n",
       "        text-align: right;\n",
       "    }\n",
       "</style>\n",
       "<table border=\"1\" class=\"dataframe\">\n",
       "  <thead>\n",
       "    <tr style=\"text-align: right;\">\n",
       "      <th></th>\n",
       "      <th>age</th>\n",
       "      <th>hypertension</th>\n",
       "      <th>heart_disease</th>\n",
       "      <th>avg_glucose_level</th>\n",
       "      <th>bmi</th>\n",
       "      <th>stroke</th>\n",
       "    </tr>\n",
       "  </thead>\n",
       "  <tbody>\n",
       "    <tr>\n",
       "      <th>count</th>\n",
       "      <td>4981.000000</td>\n",
       "      <td>4981.000000</td>\n",
       "      <td>4981.000000</td>\n",
       "      <td>4981.000000</td>\n",
       "      <td>4981.000000</td>\n",
       "      <td>4981.000000</td>\n",
       "    </tr>\n",
       "    <tr>\n",
       "      <th>mean</th>\n",
       "      <td>43.419859</td>\n",
       "      <td>0.096165</td>\n",
       "      <td>0.055210</td>\n",
       "      <td>105.943562</td>\n",
       "      <td>28.498173</td>\n",
       "      <td>0.049789</td>\n",
       "    </tr>\n",
       "    <tr>\n",
       "      <th>std</th>\n",
       "      <td>22.662755</td>\n",
       "      <td>0.294848</td>\n",
       "      <td>0.228412</td>\n",
       "      <td>45.075373</td>\n",
       "      <td>6.790464</td>\n",
       "      <td>0.217531</td>\n",
       "    </tr>\n",
       "    <tr>\n",
       "      <th>min</th>\n",
       "      <td>0.080000</td>\n",
       "      <td>0.000000</td>\n",
       "      <td>0.000000</td>\n",
       "      <td>55.120000</td>\n",
       "      <td>14.000000</td>\n",
       "      <td>0.000000</td>\n",
       "    </tr>\n",
       "    <tr>\n",
       "      <th>25%</th>\n",
       "      <td>25.000000</td>\n",
       "      <td>0.000000</td>\n",
       "      <td>0.000000</td>\n",
       "      <td>77.230000</td>\n",
       "      <td>23.700000</td>\n",
       "      <td>0.000000</td>\n",
       "    </tr>\n",
       "    <tr>\n",
       "      <th>50%</th>\n",
       "      <td>45.000000</td>\n",
       "      <td>0.000000</td>\n",
       "      <td>0.000000</td>\n",
       "      <td>91.850000</td>\n",
       "      <td>28.100000</td>\n",
       "      <td>0.000000</td>\n",
       "    </tr>\n",
       "    <tr>\n",
       "      <th>75%</th>\n",
       "      <td>61.000000</td>\n",
       "      <td>0.000000</td>\n",
       "      <td>0.000000</td>\n",
       "      <td>113.860000</td>\n",
       "      <td>32.600000</td>\n",
       "      <td>0.000000</td>\n",
       "    </tr>\n",
       "    <tr>\n",
       "      <th>max</th>\n",
       "      <td>82.000000</td>\n",
       "      <td>1.000000</td>\n",
       "      <td>1.000000</td>\n",
       "      <td>271.740000</td>\n",
       "      <td>48.900000</td>\n",
       "      <td>1.000000</td>\n",
       "    </tr>\n",
       "  </tbody>\n",
       "</table>\n",
       "</div>"
      ],
      "text/plain": [
       "               age  hypertension  heart_disease  avg_glucose_level  \\\n",
       "count  4981.000000   4981.000000    4981.000000        4981.000000   \n",
       "mean     43.419859      0.096165       0.055210         105.943562   \n",
       "std      22.662755      0.294848       0.228412          45.075373   \n",
       "min       0.080000      0.000000       0.000000          55.120000   \n",
       "25%      25.000000      0.000000       0.000000          77.230000   \n",
       "50%      45.000000      0.000000       0.000000          91.850000   \n",
       "75%      61.000000      0.000000       0.000000         113.860000   \n",
       "max      82.000000      1.000000       1.000000         271.740000   \n",
       "\n",
       "               bmi       stroke  \n",
       "count  4981.000000  4981.000000  \n",
       "mean     28.498173     0.049789  \n",
       "std       6.790464     0.217531  \n",
       "min      14.000000     0.000000  \n",
       "25%      23.700000     0.000000  \n",
       "50%      28.100000     0.000000  \n",
       "75%      32.600000     0.000000  \n",
       "max      48.900000     1.000000  "
      ]
     },
     "execution_count": 4,
     "metadata": {},
     "output_type": "execute_result"
    }
   ],
   "source": [
    "df.describe()"
   ]
  },
  {
   "cell_type": "markdown",
   "id": "c9773548",
   "metadata": {
    "papermill": {
     "duration": 0.014348,
     "end_time": "2024-05-17T10:44:24.478409",
     "exception": false,
     "start_time": "2024-05-17T10:44:24.464061",
     "status": "completed"
    },
    "tags": []
   },
   "source": [
    "## Categorical columns info"
   ]
  },
  {
   "cell_type": "code",
   "execution_count": 5,
   "id": "f0b1a3eb",
   "metadata": {
    "execution": {
     "iopub.execute_input": "2024-05-17T10:44:24.509317Z",
     "iopub.status.busy": "2024-05-17T10:44:24.508977Z",
     "iopub.status.idle": "2024-05-17T10:44:24.518150Z",
     "shell.execute_reply": "2024-05-17T10:44:24.517071Z"
    },
    "papermill": {
     "duration": 0.027225,
     "end_time": "2024-05-17T10:44:24.520213",
     "exception": false,
     "start_time": "2024-05-17T10:44:24.492988",
     "status": "completed"
    },
    "tags": []
   },
   "outputs": [
    {
     "name": "stdout",
     "output_type": "stream",
     "text": [
      "['Male' 'Female']\n",
      "['Private' 'Self-employed' 'Govt_job' 'children']\n",
      "['Urban' 'Rural']\n",
      "['formerly smoked' 'never smoked' 'smokes' 'Unknown']\n",
      "['Yes' 'No']\n"
     ]
    }
   ],
   "source": [
    "print(df['gender'].unique())\n",
    "print(df['work_type'].unique())\n",
    "print(df['Residence_type'].unique())\n",
    "print(df['smoking_status'].unique())\n",
    "print(df['ever_married'].unique())"
   ]
  },
  {
   "cell_type": "markdown",
   "id": "e4f23fe4",
   "metadata": {
    "papermill": {
     "duration": 0.014624,
     "end_time": "2024-05-17T10:44:24.549491",
     "exception": false,
     "start_time": "2024-05-17T10:44:24.534867",
     "status": "completed"
    },
    "tags": []
   },
   "source": [
    "<a id=\"title-four\"></a>\n",
    "<h1 style='background:#C4F1E8; border:2; border-radius: 10px; color:black'><center>VIZUALIZATION</center></h1>"
   ]
  },
  {
   "cell_type": "markdown",
   "id": "48baae98",
   "metadata": {
    "papermill": {
     "duration": 0.014768,
     "end_time": "2024-05-17T10:44:24.579092",
     "exception": false,
     "start_time": "2024-05-17T10:44:24.564324",
     "status": "completed"
    },
    "tags": []
   },
   "source": [
    "*I tried to use plotly for vizualization as I needed to learn it more :) *"
   ]
  },
  {
   "cell_type": "code",
   "execution_count": 6,
   "id": "d9dac632",
   "metadata": {
    "execution": {
     "iopub.execute_input": "2024-05-17T10:44:24.617764Z",
     "iopub.status.busy": "2024-05-17T10:44:24.616916Z",
     "iopub.status.idle": "2024-05-17T10:44:27.433078Z",
     "shell.execute_reply": "2024-05-17T10:44:27.432033Z"
    },
    "papermill": {
     "duration": 2.839604,
     "end_time": "2024-05-17T10:44:27.435296",
     "exception": false,
     "start_time": "2024-05-17T10:44:24.595692",
     "status": "completed"
    },
    "tags": []
   },
   "outputs": [
    {
     "data": {
      "text/html": [
       "        <script type=\"text/javascript\">\n",
       "        window.PlotlyConfig = {MathJaxConfig: 'local'};\n",
       "        if (window.MathJax && window.MathJax.Hub && window.MathJax.Hub.Config) {window.MathJax.Hub.Config({SVG: {font: \"STIX-Web\"}});}\n",
       "        if (typeof require !== 'undefined') {\n",
       "        require.undef(\"plotly\");\n",
       "        requirejs.config({\n",
       "            paths: {\n",
       "                'plotly': ['https://cdn.plot.ly/plotly-2.12.1.min']\n",
       "            }\n",
       "        });\n",
       "        require(['plotly'], function(Plotly) {\n",
       "            window._Plotly = Plotly;\n",
       "        });\n",
       "        }\n",
       "        </script>\n",
       "        "
      ]
     },
     "metadata": {},
     "output_type": "display_data"
    }
   ],
   "source": [
    "import cufflinks as cf\n",
    "cf.go_offline()\n",
    "cf.set_config_file(offline=False, world_readable=True)  #  link pandas to plotly and add the iplot method"
   ]
  },
  {
   "cell_type": "markdown",
   "id": "53d19688",
   "metadata": {
    "papermill": {
     "duration": 0.014999,
     "end_time": "2024-05-17T10:44:27.466619",
     "exception": false,
     "start_time": "2024-05-17T10:44:27.451620",
     "status": "completed"
    },
    "tags": []
   },
   "source": [
    "<h3 style='background:#F1C4EF; border:1; border-radius:10px; color:black'><center>The Proportion of Stroke among Gender</center></h3>"
   ]
  },
  {
   "cell_type": "code",
   "execution_count": 7,
   "id": "87f6a4fb",
   "metadata": {
    "execution": {
     "iopub.execute_input": "2024-05-17T10:44:27.499387Z",
     "iopub.status.busy": "2024-05-17T10:44:27.499058Z",
     "iopub.status.idle": "2024-05-17T10:44:27.537453Z",
     "shell.execute_reply": "2024-05-17T10:44:27.536414Z"
    },
    "papermill": {
     "duration": 0.057512,
     "end_time": "2024-05-17T10:44:27.539761",
     "exception": false,
     "start_time": "2024-05-17T10:44:27.482249",
     "status": "completed"
    },
    "tags": []
   },
   "outputs": [
    {
     "data": {
      "application/vnd.plotly.v1+json": {
       "config": {
        "linkText": "Export to plot.ly",
        "plotlyServerURL": "https://plot.ly",
        "showLink": true
       },
       "data": [
        {
         "labels": [
          "Female",
          "Male"
         ],
         "marker": {
          "colors": [
           "rgba(255, 182, 193, 1.0)",
           "rgba(135, 206, 250, 1.0)"
          ]
         },
         "name": "",
         "type": "pie",
         "values": [
          140,
          108
         ]
        }
       ],
       "layout": {
        "legend": {
         "bgcolor": "#F5F6F9",
         "font": {
          "color": "#4D5663"
         }
        },
        "paper_bgcolor": "#F5F6F9",
        "plot_bgcolor": "#F5F6F9",
        "title": "The Proportion of Stroke among Gender",
        "titlefont": {
         "color": "#4D5663"
        }
       }
      },
      "text/html": [
       "<div>                            <div id=\"d1e0eb45-9774-4908-bb13-300c4eb20d68\" class=\"plotly-graph-div\" style=\"height:525px; width:100%;\"></div>            <script type=\"text/javascript\">                require([\"plotly\"], function(Plotly) {                    window.PLOTLYENV=window.PLOTLYENV || {};\n",
       "                    window.PLOTLYENV.BASE_URL='https://plot.ly';                                    if (document.getElementById(\"d1e0eb45-9774-4908-bb13-300c4eb20d68\")) {                    Plotly.newPlot(                        \"d1e0eb45-9774-4908-bb13-300c4eb20d68\",                        [{\"labels\":[\"Female\",\"Male\"],\"marker\":{\"colors\":[\"rgba(255, 182, 193, 1.0)\",\"rgba(135, 206, 250, 1.0)\"]},\"name\":\"\",\"values\":[140,108],\"type\":\"pie\"}],                        {\"legend\":{\"bgcolor\":\"#F5F6F9\",\"font\":{\"color\":\"#4D5663\"}},\"paper_bgcolor\":\"#F5F6F9\",\"plot_bgcolor\":\"#F5F6F9\",\"titlefont\":{\"color\":\"#4D5663\"},\"title\":\"The Proportion of Stroke among Gender\"},                        {\"showLink\": true, \"linkText\": \"Export to plot.ly\", \"plotlyServerURL\": \"https://plot.ly\", \"responsive\": true}                    ).then(function(){\n",
       "                            \n",
       "var gd = document.getElementById('d1e0eb45-9774-4908-bb13-300c4eb20d68');\n",
       "var x = new MutationObserver(function (mutations, observer) {{\n",
       "        var display = window.getComputedStyle(gd).display;\n",
       "        if (!display || display === 'none') {{\n",
       "            console.log([gd, 'removed!']);\n",
       "            Plotly.purge(gd);\n",
       "            observer.disconnect();\n",
       "        }}\n",
       "}});\n",
       "\n",
       "// Listen for the removal of the full notebook cells\n",
       "var notebookContainer = gd.closest('#notebook-container');\n",
       "if (notebookContainer) {{\n",
       "    x.observe(notebookContainer, {childList: true});\n",
       "}}\n",
       "\n",
       "// Listen for the clearing of the current output cell\n",
       "var outputEl = gd.closest('.output');\n",
       "if (outputEl) {{\n",
       "    x.observe(outputEl, {childList: true});\n",
       "}}\n",
       "\n",
       "                        })                };                });            </script>        </div>"
      ]
     },
     "metadata": {},
     "output_type": "display_data"
    }
   ],
   "source": [
    "gender = df.groupby(df['gender'])['stroke'].sum()\n",
    "df_gender = pd.DataFrame({'labels': gender.index,\n",
    "                   'values': gender.values\n",
    "                  })\n",
    "colors = ['lightpink', 'lightskyblue']\n",
    "df_gender.iplot(kind='pie',labels='labels',values='values', title='The Proportion of Stroke among Gender', colors = colors)"
   ]
  },
  {
   "cell_type": "markdown",
   "id": "16cafea7",
   "metadata": {
    "papermill": {
     "duration": 0.015545,
     "end_time": "2024-05-17T10:44:27.571879",
     "exception": false,
     "start_time": "2024-05-17T10:44:27.556334",
     "status": "completed"
    },
    "tags": []
   },
   "source": [
    "<h3 style='background:#F1C4EF; border:1; border-radius:10px; color:black'><center>Work type of people who had stroke</center></h3>"
   ]
  },
  {
   "cell_type": "code",
   "execution_count": 8,
   "id": "19356b74",
   "metadata": {
    "execution": {
     "iopub.execute_input": "2024-05-17T10:44:27.605080Z",
     "iopub.status.busy": "2024-05-17T10:44:27.604671Z",
     "iopub.status.idle": "2024-05-17T10:44:27.624310Z",
     "shell.execute_reply": "2024-05-17T10:44:27.623373Z"
    },
    "papermill": {
     "duration": 0.038868,
     "end_time": "2024-05-17T10:44:27.626579",
     "exception": false,
     "start_time": "2024-05-17T10:44:27.587711",
     "status": "completed"
    },
    "tags": []
   },
   "outputs": [
    {
     "data": {
      "application/vnd.plotly.v1+json": {
       "config": {
        "linkText": "Export to plot.ly",
        "plotlyServerURL": "https://plot.ly",
        "showLink": true
       },
       "data": [
        {
         "labels": [
          "Govt_job",
          "Private",
          "Self-employed",
          "children"
         ],
         "marker": {
          "colors": [
           "rgba(152, 251, 152, 1.0)",
           "rgba(175, 238, 238, 1.0)",
           "rgba(216, 191, 216, 1.0)",
           "rgba(255, 228, 181, 1.0)"
          ]
         },
         "name": "",
         "pull": [
          0.1,
          0.1,
          0.1,
          0.2
         ],
         "type": "pie",
         "values": [
          33,
          148,
          65,
          2
         ]
        }
       ],
       "layout": {
        "legend": {
         "bgcolor": "#F5F6F9",
         "font": {
          "color": "#4D5663"
         }
        },
        "paper_bgcolor": "#F5F6F9",
        "plot_bgcolor": "#F5F6F9",
        "title": "Work type of people who had stroke",
        "titlefont": {
         "color": "#4D5663"
        }
       }
      },
      "text/html": [
       "<div>                            <div id=\"074fd5f1-8045-41dd-bd8a-b829c61b662d\" class=\"plotly-graph-div\" style=\"height:525px; width:100%;\"></div>            <script type=\"text/javascript\">                require([\"plotly\"], function(Plotly) {                    window.PLOTLYENV=window.PLOTLYENV || {};\n",
       "                    window.PLOTLYENV.BASE_URL='https://plot.ly';                                    if (document.getElementById(\"074fd5f1-8045-41dd-bd8a-b829c61b662d\")) {                    Plotly.newPlot(                        \"074fd5f1-8045-41dd-bd8a-b829c61b662d\",                        [{\"labels\":[\"Govt_job\",\"Private\",\"Self-employed\",\"children\"],\"marker\":{\"colors\":[\"rgba(152, 251, 152, 1.0)\",\"rgba(175, 238, 238, 1.0)\",\"rgba(216, 191, 216, 1.0)\",\"rgba(255, 228, 181, 1.0)\"]},\"name\":\"\",\"pull\":[0.1,0.1,0.1,0.2],\"values\":[33,148,65,2],\"type\":\"pie\"}],                        {\"legend\":{\"bgcolor\":\"#F5F6F9\",\"font\":{\"color\":\"#4D5663\"}},\"paper_bgcolor\":\"#F5F6F9\",\"plot_bgcolor\":\"#F5F6F9\",\"titlefont\":{\"color\":\"#4D5663\"},\"title\":\"Work type of people who had stroke\"},                        {\"showLink\": true, \"linkText\": \"Export to plot.ly\", \"plotlyServerURL\": \"https://plot.ly\", \"responsive\": true}                    ).then(function(){\n",
       "                            \n",
       "var gd = document.getElementById('074fd5f1-8045-41dd-bd8a-b829c61b662d');\n",
       "var x = new MutationObserver(function (mutations, observer) {{\n",
       "        var display = window.getComputedStyle(gd).display;\n",
       "        if (!display || display === 'none') {{\n",
       "            console.log([gd, 'removed!']);\n",
       "            Plotly.purge(gd);\n",
       "            observer.disconnect();\n",
       "        }}\n",
       "}});\n",
       "\n",
       "// Listen for the removal of the full notebook cells\n",
       "var notebookContainer = gd.closest('#notebook-container');\n",
       "if (notebookContainer) {{\n",
       "    x.observe(notebookContainer, {childList: true});\n",
       "}}\n",
       "\n",
       "// Listen for the clearing of the current output cell\n",
       "var outputEl = gd.closest('.output');\n",
       "if (outputEl) {{\n",
       "    x.observe(outputEl, {childList: true});\n",
       "}}\n",
       "\n",
       "                        })                };                });            </script>        </div>"
      ]
     },
     "metadata": {},
     "output_type": "display_data"
    }
   ],
   "source": [
    "job = df.groupby(df['work_type'])['stroke'].sum()\n",
    "df_job = pd.DataFrame({'labels': job.index,\n",
    "                   'values': job.values\n",
    "                  })\n",
    "colors2= ['palegreen','paleturquoise','thistle','moccasin']\n",
    "df_job.iplot(kind='pie',labels='labels',values='values', title='Work type of people who had stroke', colors = colors2, \n",
    "            pull=[0.1, 0.1, 0.1, 0.2])\n"
   ]
  },
  {
   "cell_type": "markdown",
   "id": "5ccbfce6",
   "metadata": {
    "papermill": {
     "duration": 0.016093,
     "end_time": "2024-05-17T10:44:27.658916",
     "exception": false,
     "start_time": "2024-05-17T10:44:27.642823",
     "status": "completed"
    },
    "tags": []
   },
   "source": [
    "<h3 style='background:#F1C4EF; border:1; border-radius:10px; color:black'><center>Smoking status of people who had stroke</center></h3>"
   ]
  },
  {
   "cell_type": "code",
   "execution_count": 9,
   "id": "533a0ed9",
   "metadata": {
    "execution": {
     "iopub.execute_input": "2024-05-17T10:44:27.692669Z",
     "iopub.status.busy": "2024-05-17T10:44:27.691757Z",
     "iopub.status.idle": "2024-05-17T10:44:27.710673Z",
     "shell.execute_reply": "2024-05-17T10:44:27.709830Z"
    },
    "papermill": {
     "duration": 0.038249,
     "end_time": "2024-05-17T10:44:27.712858",
     "exception": false,
     "start_time": "2024-05-17T10:44:27.674609",
     "status": "completed"
    },
    "tags": []
   },
   "outputs": [
    {
     "data": {
      "application/vnd.plotly.v1+json": {
       "config": {
        "linkText": "Export to plot.ly",
        "plotlyServerURL": "https://plot.ly",
        "showLink": true
       },
       "data": [
        {
         "labels": [
          "Unknown",
          "formerly smoked",
          "never smoked",
          "smokes"
         ],
         "marker": {
          "colors": [
           "rgba(152, 251, 152, 1.0)",
           "rgba(175, 238, 238, 1.0)",
           "rgba(216, 191, 216, 1.0)",
           "rgba(255, 228, 181, 1.0)"
          ]
         },
         "name": "",
         "pull": [
          0.02,
          0.02,
          0.1,
          0.02
         ],
         "type": "pie",
         "values": [
          47,
          70,
          89,
          42
         ]
        }
       ],
       "layout": {
        "legend": {
         "bgcolor": "#F5F6F9",
         "font": {
          "color": "#4D5663"
         }
        },
        "paper_bgcolor": "#F5F6F9",
        "plot_bgcolor": "#F5F6F9",
        "title": "Smoking status of people who had stroke",
        "titlefont": {
         "color": "#4D5663"
        }
       }
      },
      "text/html": [
       "<div>                            <div id=\"d73caa73-9d4c-4c7e-be7f-6d7c24ffcc31\" class=\"plotly-graph-div\" style=\"height:525px; width:100%;\"></div>            <script type=\"text/javascript\">                require([\"plotly\"], function(Plotly) {                    window.PLOTLYENV=window.PLOTLYENV || {};\n",
       "                    window.PLOTLYENV.BASE_URL='https://plot.ly';                                    if (document.getElementById(\"d73caa73-9d4c-4c7e-be7f-6d7c24ffcc31\")) {                    Plotly.newPlot(                        \"d73caa73-9d4c-4c7e-be7f-6d7c24ffcc31\",                        [{\"labels\":[\"Unknown\",\"formerly smoked\",\"never smoked\",\"smokes\"],\"marker\":{\"colors\":[\"rgba(152, 251, 152, 1.0)\",\"rgba(175, 238, 238, 1.0)\",\"rgba(216, 191, 216, 1.0)\",\"rgba(255, 228, 181, 1.0)\"]},\"name\":\"\",\"pull\":[0.02,0.02,0.1,0.02],\"values\":[47,70,89,42],\"type\":\"pie\"}],                        {\"legend\":{\"bgcolor\":\"#F5F6F9\",\"font\":{\"color\":\"#4D5663\"}},\"paper_bgcolor\":\"#F5F6F9\",\"plot_bgcolor\":\"#F5F6F9\",\"titlefont\":{\"color\":\"#4D5663\"},\"title\":\"Smoking status of people who had stroke\"},                        {\"showLink\": true, \"linkText\": \"Export to plot.ly\", \"plotlyServerURL\": \"https://plot.ly\", \"responsive\": true}                    ).then(function(){\n",
       "                            \n",
       "var gd = document.getElementById('d73caa73-9d4c-4c7e-be7f-6d7c24ffcc31');\n",
       "var x = new MutationObserver(function (mutations, observer) {{\n",
       "        var display = window.getComputedStyle(gd).display;\n",
       "        if (!display || display === 'none') {{\n",
       "            console.log([gd, 'removed!']);\n",
       "            Plotly.purge(gd);\n",
       "            observer.disconnect();\n",
       "        }}\n",
       "}});\n",
       "\n",
       "// Listen for the removal of the full notebook cells\n",
       "var notebookContainer = gd.closest('#notebook-container');\n",
       "if (notebookContainer) {{\n",
       "    x.observe(notebookContainer, {childList: true});\n",
       "}}\n",
       "\n",
       "// Listen for the clearing of the current output cell\n",
       "var outputEl = gd.closest('.output');\n",
       "if (outputEl) {{\n",
       "    x.observe(outputEl, {childList: true});\n",
       "}}\n",
       "\n",
       "                        })                };                });            </script>        </div>"
      ]
     },
     "metadata": {},
     "output_type": "display_data"
    }
   ],
   "source": [
    "smoke = df.groupby(df['smoking_status'])['stroke'].sum()\n",
    "df_smoke = pd.DataFrame({'labels': smoke.index,\n",
    "                   'values': smoke.values\n",
    "                  })\n",
    "df_smoke.iplot(kind='pie',labels='labels',values='values', title='Smoking status of people who had stroke', colors = colors2, \n",
    "            pull=[0.02, 0.02, 0.1, 0.02])\n"
   ]
  },
  {
   "cell_type": "markdown",
   "id": "ad054df4",
   "metadata": {
    "papermill": {
     "duration": 0.017696,
     "end_time": "2024-05-17T10:44:27.749002",
     "exception": false,
     "start_time": "2024-05-17T10:44:27.731306",
     "status": "completed"
    },
    "tags": []
   },
   "source": [
    "<h3 style='background:#F1C4EF; border:1; border-radius:10px; color:black'><center>Residence area of people who had stroke</center></h3>"
   ]
  },
  {
   "cell_type": "code",
   "execution_count": 10,
   "id": "e6735185",
   "metadata": {
    "execution": {
     "iopub.execute_input": "2024-05-17T10:44:27.785961Z",
     "iopub.status.busy": "2024-05-17T10:44:27.785262Z",
     "iopub.status.idle": "2024-05-17T10:44:27.801436Z",
     "shell.execute_reply": "2024-05-17T10:44:27.800475Z"
    },
    "papermill": {
     "duration": 0.0366,
     "end_time": "2024-05-17T10:44:27.803662",
     "exception": false,
     "start_time": "2024-05-17T10:44:27.767062",
     "status": "completed"
    },
    "tags": []
   },
   "outputs": [
    {
     "data": {
      "application/vnd.plotly.v1+json": {
       "config": {
        "linkText": "Export to plot.ly",
        "plotlyServerURL": "https://plot.ly",
        "showLink": true
       },
       "data": [
        {
         "hole": 0.3,
         "labels": [
          "Rural",
          "Urban"
         ],
         "marker": {
          "colors": [
           "rgba(152, 251, 152, 1.0)",
           "rgba(175, 238, 238, 1.0)"
          ]
         },
         "name": "",
         "pull": [
          0.02,
          0.02
         ],
         "type": "pie",
         "values": [
          113,
          135
         ]
        }
       ],
       "layout": {
        "legend": {
         "bgcolor": "#F5F6F9",
         "font": {
          "color": "#4D5663"
         }
        },
        "paper_bgcolor": "#F5F6F9",
        "plot_bgcolor": "#F5F6F9",
        "title": "Residence area of people who had stroke",
        "titlefont": {
         "color": "#4D5663"
        }
       }
      },
      "text/html": [
       "<div>                            <div id=\"49e3bc14-3920-4125-9722-f5d295f33228\" class=\"plotly-graph-div\" style=\"height:525px; width:100%;\"></div>            <script type=\"text/javascript\">                require([\"plotly\"], function(Plotly) {                    window.PLOTLYENV=window.PLOTLYENV || {};\n",
       "                    window.PLOTLYENV.BASE_URL='https://plot.ly';                                    if (document.getElementById(\"49e3bc14-3920-4125-9722-f5d295f33228\")) {                    Plotly.newPlot(                        \"49e3bc14-3920-4125-9722-f5d295f33228\",                        [{\"hole\":0.3,\"labels\":[\"Rural\",\"Urban\"],\"marker\":{\"colors\":[\"rgba(152, 251, 152, 1.0)\",\"rgba(175, 238, 238, 1.0)\"]},\"name\":\"\",\"pull\":[0.02,0.02],\"values\":[113,135],\"type\":\"pie\"}],                        {\"legend\":{\"bgcolor\":\"#F5F6F9\",\"font\":{\"color\":\"#4D5663\"}},\"paper_bgcolor\":\"#F5F6F9\",\"plot_bgcolor\":\"#F5F6F9\",\"titlefont\":{\"color\":\"#4D5663\"},\"title\":\"Residence area of people who had stroke\"},                        {\"showLink\": true, \"linkText\": \"Export to plot.ly\", \"plotlyServerURL\": \"https://plot.ly\", \"responsive\": true}                    ).then(function(){\n",
       "                            \n",
       "var gd = document.getElementById('49e3bc14-3920-4125-9722-f5d295f33228');\n",
       "var x = new MutationObserver(function (mutations, observer) {{\n",
       "        var display = window.getComputedStyle(gd).display;\n",
       "        if (!display || display === 'none') {{\n",
       "            console.log([gd, 'removed!']);\n",
       "            Plotly.purge(gd);\n",
       "            observer.disconnect();\n",
       "        }}\n",
       "}});\n",
       "\n",
       "// Listen for the removal of the full notebook cells\n",
       "var notebookContainer = gd.closest('#notebook-container');\n",
       "if (notebookContainer) {{\n",
       "    x.observe(notebookContainer, {childList: true});\n",
       "}}\n",
       "\n",
       "// Listen for the clearing of the current output cell\n",
       "var outputEl = gd.closest('.output');\n",
       "if (outputEl) {{\n",
       "    x.observe(outputEl, {childList: true});\n",
       "}}\n",
       "\n",
       "                        })                };                });            </script>        </div>"
      ]
     },
     "metadata": {},
     "output_type": "display_data"
    }
   ],
   "source": [
    "\n",
    "Residence = df.groupby(df['Residence_type'])['stroke'].sum()\n",
    "df_Residence = pd.DataFrame({'labels': Residence.index,\n",
    "                   'values': Residence.values\n",
    "                  })\n",
    "df_Residence.iplot(kind='pie',labels='labels',values='values', title='Residence area of people who had stroke', colors = colors2, \n",
    "            pull=[0.02, 0.02],hole = 0.3)"
   ]
  },
  {
   "cell_type": "markdown",
   "id": "c7ac9454",
   "metadata": {
    "papermill": {
     "duration": 0.017652,
     "end_time": "2024-05-17T10:44:27.838845",
     "exception": false,
     "start_time": "2024-05-17T10:44:27.821193",
     "status": "completed"
    },
    "tags": []
   },
   "source": [
    "<h3 style='background:#F1C4EF; border:1; border-radius:10px; color:black'><center>Marriage status of people who had stroke</center></h3>"
   ]
  },
  {
   "cell_type": "code",
   "execution_count": 11,
   "id": "24c84470",
   "metadata": {
    "execution": {
     "iopub.execute_input": "2024-05-17T10:44:27.875727Z",
     "iopub.status.busy": "2024-05-17T10:44:27.875350Z",
     "iopub.status.idle": "2024-05-17T10:44:27.892205Z",
     "shell.execute_reply": "2024-05-17T10:44:27.891247Z"
    },
    "papermill": {
     "duration": 0.038131,
     "end_time": "2024-05-17T10:44:27.894553",
     "exception": false,
     "start_time": "2024-05-17T10:44:27.856422",
     "status": "completed"
    },
    "tags": []
   },
   "outputs": [
    {
     "data": {
      "application/vnd.plotly.v1+json": {
       "config": {
        "linkText": "Export to plot.ly",
        "plotlyServerURL": "https://plot.ly",
        "showLink": true
       },
       "data": [
        {
         "hole": 0.3,
         "labels": [
          "No",
          "Yes"
         ],
         "marker": {
          "colors": [
           "rgba(152, 251, 152, 1.0)",
           "rgba(175, 238, 238, 1.0)"
          ]
         },
         "name": "",
         "pull": [
          0.02,
          0.02
         ],
         "type": "pie",
         "values": [
          29,
          219
         ]
        }
       ],
       "layout": {
        "legend": {
         "bgcolor": "#F5F6F9",
         "font": {
          "color": "#4D5663"
         }
        },
        "paper_bgcolor": "#F5F6F9",
        "plot_bgcolor": "#F5F6F9",
        "title": "Marriage status of people who had stroke",
        "titlefont": {
         "color": "#4D5663"
        }
       }
      },
      "text/html": [
       "<div>                            <div id=\"5a2b7842-e7b2-491c-97b0-d8b9c7261db7\" class=\"plotly-graph-div\" style=\"height:525px; width:100%;\"></div>            <script type=\"text/javascript\">                require([\"plotly\"], function(Plotly) {                    window.PLOTLYENV=window.PLOTLYENV || {};\n",
       "                    window.PLOTLYENV.BASE_URL='https://plot.ly';                                    if (document.getElementById(\"5a2b7842-e7b2-491c-97b0-d8b9c7261db7\")) {                    Plotly.newPlot(                        \"5a2b7842-e7b2-491c-97b0-d8b9c7261db7\",                        [{\"hole\":0.3,\"labels\":[\"No\",\"Yes\"],\"marker\":{\"colors\":[\"rgba(152, 251, 152, 1.0)\",\"rgba(175, 238, 238, 1.0)\"]},\"name\":\"\",\"pull\":[0.02,0.02],\"values\":[29,219],\"type\":\"pie\"}],                        {\"legend\":{\"bgcolor\":\"#F5F6F9\",\"font\":{\"color\":\"#4D5663\"}},\"paper_bgcolor\":\"#F5F6F9\",\"plot_bgcolor\":\"#F5F6F9\",\"titlefont\":{\"color\":\"#4D5663\"},\"title\":\"Marriage status of people who had stroke\"},                        {\"showLink\": true, \"linkText\": \"Export to plot.ly\", \"plotlyServerURL\": \"https://plot.ly\", \"responsive\": true}                    ).then(function(){\n",
       "                            \n",
       "var gd = document.getElementById('5a2b7842-e7b2-491c-97b0-d8b9c7261db7');\n",
       "var x = new MutationObserver(function (mutations, observer) {{\n",
       "        var display = window.getComputedStyle(gd).display;\n",
       "        if (!display || display === 'none') {{\n",
       "            console.log([gd, 'removed!']);\n",
       "            Plotly.purge(gd);\n",
       "            observer.disconnect();\n",
       "        }}\n",
       "}});\n",
       "\n",
       "// Listen for the removal of the full notebook cells\n",
       "var notebookContainer = gd.closest('#notebook-container');\n",
       "if (notebookContainer) {{\n",
       "    x.observe(notebookContainer, {childList: true});\n",
       "}}\n",
       "\n",
       "// Listen for the clearing of the current output cell\n",
       "var outputEl = gd.closest('.output');\n",
       "if (outputEl) {{\n",
       "    x.observe(outputEl, {childList: true});\n",
       "}}\n",
       "\n",
       "                        })                };                });            </script>        </div>"
      ]
     },
     "metadata": {},
     "output_type": "display_data"
    }
   ],
   "source": [
    "Married = df.groupby(df['ever_married'])['stroke'].sum()\n",
    "df_Married = pd.DataFrame({'labels': Married.index,\n",
    "                   'values': Married.values\n",
    "                  })\n",
    "df_Married.iplot(kind='pie',labels='labels',values='values', title='Marriage status of people who had stroke', colors = colors2, \n",
    "            pull=[0.02, 0.02],hole = 0.3)"
   ]
  },
  {
   "cell_type": "markdown",
   "id": "5e764f60",
   "metadata": {
    "papermill": {
     "duration": 0.017741,
     "end_time": "2024-05-17T10:44:27.931971",
     "exception": false,
     "start_time": "2024-05-17T10:44:27.914230",
     "status": "completed"
    },
    "tags": []
   },
   "source": [
    "<img src = \"https://media1.giphy.com/media/jIIduCs5nkq2i2emoS/giphy.gif\" width = 400 height = 300 class=\"center\">\n",
    "\n"
   ]
  },
  {
   "cell_type": "markdown",
   "id": "d9fe5389",
   "metadata": {
    "papermill": {
     "duration": 0.017686,
     "end_time": "2024-05-17T10:44:27.967879",
     "exception": false,
     "start_time": "2024-05-17T10:44:27.950193",
     "status": "completed"
    },
    "tags": []
   },
   "source": [
    "<h3 style='background:#F1C4EF; border:1; border-radius:10px; color:black'><center>Stroke age among gender</center></h3>"
   ]
  },
  {
   "cell_type": "code",
   "execution_count": 12,
   "id": "7bd62f19",
   "metadata": {
    "execution": {
     "iopub.execute_input": "2024-05-17T10:44:28.005384Z",
     "iopub.status.busy": "2024-05-17T10:44:28.004749Z",
     "iopub.status.idle": "2024-05-17T10:44:28.590508Z",
     "shell.execute_reply": "2024-05-17T10:44:28.589470Z"
    },
    "papermill": {
     "duration": 0.607418,
     "end_time": "2024-05-17T10:44:28.593313",
     "exception": false,
     "start_time": "2024-05-17T10:44:27.985895",
     "status": "completed"
    },
    "tags": []
   },
   "outputs": [
    {
     "data": {
      "application/vnd.plotly.v1+json": {
       "config": {
        "linkText": "Export to plot.ly",
        "plotlyServerURL": "https://plot.ly",
        "showLink": true
       },
       "data": [
        {
         "histfunc": "count",
         "histnorm": "",
         "marker": {
          "color": "rgba(255, 153, 51, 1.0)",
          "line": {
           "color": "#4D5663",
           "width": 1.3
          }
         },
         "name": "male_age",
         "nbinsx": 20,
         "opacity": 0.8,
         "orientation": "v",
         "type": "histogram",
         "x": [
          67.0,
          80.0,
          null,
          null,
          81.0,
          74.0,
          null,
          null,
          null,
          null,
          null,
          null,
          null,
          64.0,
          75.0,
          null,
          null,
          null,
          null,
          82.0,
          71.0,
          80.0,
          null,
          69.0,
          57.0,
          42.0,
          null,
          80.0,
          48.0,
          null,
          74.0,
          null,
          58.0,
          null,
          78.0,
          54.0,
          82.0,
          60.0,
          76.0,
          null,
          81.0,
          null,
          null,
          null,
          63.0,
          null,
          73.0,
          null,
          null,
          null,
          null,
          null,
          78.0,
          null,
          76.0,
          59.0,
          null,
          null,
          null,
          63.0,
          null,
          null,
          80.0,
          null,
          43.0,
          59.0,
          null,
          null,
          54.0,
          61.0,
          null,
          47.0,
          74.0,
          null,
          81.0,
          null,
          null,
          45.0,
          null,
          null,
          58.0,
          57.0,
          null,
          64.0,
          null,
          null,
          null,
          null,
          null,
          null,
          null,
          null,
          79.0,
          80.0,
          null,
          71.0,
          61.0,
          74.0,
          null,
          null,
          null,
          null,
          80.0,
          56.0,
          null,
          null,
          82.0,
          null,
          null,
          69.0,
          null,
          null,
          76.0,
          null,
          76.0,
          null,
          82.0,
          null,
          null,
          null,
          null,
          66.0,
          null,
          null,
          null,
          68.0,
          null,
          68.0,
          null,
          null,
          null,
          null,
          null,
          null,
          null,
          null,
          78.0,
          null,
          null,
          81.0,
          null,
          null,
          72.0,
          null,
          78.0,
          81.0,
          null,
          59.0,
          null,
          61.0,
          63.0,
          63.0,
          null,
          82.0,
          null,
          51.0,
          59.0,
          68.0,
          null,
          59.0,
          70.0,
          69.0,
          null,
          80.0,
          null,
          null,
          54.0,
          null,
          null,
          78.0,
          78.0,
          null,
          null,
          null,
          63.0,
          null,
          null,
          null,
          78.0,
          null,
          73.0,
          81.0,
          79.0,
          null,
          null,
          49.0,
          null,
          null,
          null,
          null,
          null,
          null,
          null,
          null,
          78.0,
          null,
          57.0,
          77.0,
          null,
          60.0,
          66.0,
          57.0,
          68.0,
          null,
          57.0,
          null,
          null,
          null,
          null,
          null,
          78.0,
          57.0,
          58.0,
          59.0,
          null,
          null,
          null,
          78.0,
          null,
          78.0,
          75.0,
          null,
          null,
          null,
          58.0,
          58.0,
          null,
          null,
          78.0,
          null,
          null,
          65.0,
          null,
          null,
          71.0,
          null,
          79.0,
          64.0,
          null,
          null,
          null,
          null,
          61.0,
          79.0,
          74.0,
          null,
          74.0,
          71.0
         ]
        },
        {
         "histfunc": "count",
         "histnorm": "",
         "marker": {
          "color": "rgba(55, 128, 191, 1.0)",
          "line": {
           "color": "#4D5663",
           "width": 1.3
          }
         },
         "name": "female_age",
         "nbinsx": 20,
         "opacity": 0.8,
         "orientation": "v",
         "type": "histogram",
         "x": [
          null,
          null,
          49.0,
          79.0,
          null,
          null,
          69.0,
          78.0,
          81.0,
          61.0,
          54.0,
          79.0,
          50.0,
          null,
          null,
          60.0,
          71.0,
          52.0,
          79.0,
          null,
          null,
          null,
          65.0,
          null,
          null,
          null,
          82.0,
          null,
          null,
          82.0,
          null,
          72.0,
          null,
          49.0,
          null,
          null,
          null,
          null,
          null,
          58.0,
          null,
          39.0,
          79.0,
          77.0,
          null,
          82.0,
          null,
          54.0,
          56.0,
          80.0,
          67.0,
          45.0,
          null,
          70.0,
          null,
          null,
          80.0,
          67.0,
          66.0,
          null,
          52.0,
          80.0,
          null,
          79.0,
          null,
          null,
          79.0,
          68.0,
          null,
          null,
          70.0,
          null,
          null,
          79.0,
          null,
          57.0,
          80.0,
          null,
          78.0,
          70.0,
          null,
          null,
          69.0,
          null,
          77.0,
          74.0,
          81.0,
          57.0,
          50.0,
          54.0,
          79.0,
          53.0,
          null,
          null,
          68.0,
          null,
          null,
          null,
          38.0,
          77.0,
          58.0,
          53.0,
          null,
          null,
          72.0,
          80.0,
          null,
          73.0,
          78.0,
          null,
          68.0,
          71.0,
          null,
          76.0,
          null,
          75.0,
          null,
          59.0,
          74.0,
          69.0,
          72.0,
          null,
          78.0,
          57.0,
          70.0,
          null,
          80.0,
          null,
          55.0,
          77.0,
          50.0,
          57.0,
          71.0,
          81.0,
          78.0,
          70.0,
          null,
          56.0,
          79.0,
          null,
          60.0,
          80.0,
          null,
          80.0,
          null,
          null,
          46.0,
          null,
          32.0,
          null,
          null,
          null,
          82.0,
          null,
          65.0,
          null,
          null,
          null,
          72.0,
          null,
          null,
          null,
          74.0,
          null,
          77.0,
          78.0,
          null,
          78.0,
          81.0,
          null,
          null,
          63.0,
          39.0,
          51.0,
          null,
          48.0,
          81.0,
          79.0,
          null,
          55.0,
          null,
          null,
          null,
          63.0,
          81.0,
          null,
          57.0,
          81.0,
          39.0,
          80.0,
          81.0,
          79.0,
          73.0,
          77.0,
          null,
          68.0,
          null,
          null,
          51.0,
          null,
          null,
          null,
          null,
          68.0,
          null,
          14.0,
          75.0,
          78.0,
          61.0,
          59.0,
          null,
          null,
          null,
          null,
          63.0,
          75.0,
          76.0,
          null,
          63.0,
          null,
          null,
          76.0,
          51.0,
          66.0,
          null,
          null,
          76.0,
          72.0,
          null,
          75.0,
          38.0,
          null,
          79.0,
          76.0,
          null,
          1.32,
          null,
          null,
          79.0,
          78.0,
          80.0,
          77.0,
          null,
          null,
          null,
          76.0,
          null,
          null
         ]
        }
       ],
       "layout": {
        "barmode": "overlay",
        "legend": {
         "bgcolor": "#FFFFFF",
         "font": {
          "color": "#4D5663"
         }
        },
        "paper_bgcolor": "#FFFFFF",
        "plot_bgcolor": "#FFFFFF",
        "template": {
         "data": {
          "bar": [
           {
            "error_x": {
             "color": "#2a3f5f"
            },
            "error_y": {
             "color": "#2a3f5f"
            },
            "marker": {
             "line": {
              "color": "#E5ECF6",
              "width": 0.5
             },
             "pattern": {
              "fillmode": "overlay",
              "size": 10,
              "solidity": 0.2
             }
            },
            "type": "bar"
           }
          ],
          "barpolar": [
           {
            "marker": {
             "line": {
              "color": "#E5ECF6",
              "width": 0.5
             },
             "pattern": {
              "fillmode": "overlay",
              "size": 10,
              "solidity": 0.2
             }
            },
            "type": "barpolar"
           }
          ],
          "carpet": [
           {
            "aaxis": {
             "endlinecolor": "#2a3f5f",
             "gridcolor": "white",
             "linecolor": "white",
             "minorgridcolor": "white",
             "startlinecolor": "#2a3f5f"
            },
            "baxis": {
             "endlinecolor": "#2a3f5f",
             "gridcolor": "white",
             "linecolor": "white",
             "minorgridcolor": "white",
             "startlinecolor": "#2a3f5f"
            },
            "type": "carpet"
           }
          ],
          "choropleth": [
           {
            "colorbar": {
             "outlinewidth": 0,
             "ticks": ""
            },
            "type": "choropleth"
           }
          ],
          "contour": [
           {
            "colorbar": {
             "outlinewidth": 0,
             "ticks": ""
            },
            "colorscale": [
             [
              0.0,
              "#0d0887"
             ],
             [
              0.1111111111111111,
              "#46039f"
             ],
             [
              0.2222222222222222,
              "#7201a8"
             ],
             [
              0.3333333333333333,
              "#9c179e"
             ],
             [
              0.4444444444444444,
              "#bd3786"
             ],
             [
              0.5555555555555556,
              "#d8576b"
             ],
             [
              0.6666666666666666,
              "#ed7953"
             ],
             [
              0.7777777777777778,
              "#fb9f3a"
             ],
             [
              0.8888888888888888,
              "#fdca26"
             ],
             [
              1.0,
              "#f0f921"
             ]
            ],
            "type": "contour"
           }
          ],
          "contourcarpet": [
           {
            "colorbar": {
             "outlinewidth": 0,
             "ticks": ""
            },
            "type": "contourcarpet"
           }
          ],
          "heatmap": [
           {
            "colorbar": {
             "outlinewidth": 0,
             "ticks": ""
            },
            "colorscale": [
             [
              0.0,
              "#0d0887"
             ],
             [
              0.1111111111111111,
              "#46039f"
             ],
             [
              0.2222222222222222,
              "#7201a8"
             ],
             [
              0.3333333333333333,
              "#9c179e"
             ],
             [
              0.4444444444444444,
              "#bd3786"
             ],
             [
              0.5555555555555556,
              "#d8576b"
             ],
             [
              0.6666666666666666,
              "#ed7953"
             ],
             [
              0.7777777777777778,
              "#fb9f3a"
             ],
             [
              0.8888888888888888,
              "#fdca26"
             ],
             [
              1.0,
              "#f0f921"
             ]
            ],
            "type": "heatmap"
           }
          ],
          "heatmapgl": [
           {
            "colorbar": {
             "outlinewidth": 0,
             "ticks": ""
            },
            "colorscale": [
             [
              0.0,
              "#0d0887"
             ],
             [
              0.1111111111111111,
              "#46039f"
             ],
             [
              0.2222222222222222,
              "#7201a8"
             ],
             [
              0.3333333333333333,
              "#9c179e"
             ],
             [
              0.4444444444444444,
              "#bd3786"
             ],
             [
              0.5555555555555556,
              "#d8576b"
             ],
             [
              0.6666666666666666,
              "#ed7953"
             ],
             [
              0.7777777777777778,
              "#fb9f3a"
             ],
             [
              0.8888888888888888,
              "#fdca26"
             ],
             [
              1.0,
              "#f0f921"
             ]
            ],
            "type": "heatmapgl"
           }
          ],
          "histogram": [
           {
            "marker": {
             "pattern": {
              "fillmode": "overlay",
              "size": 10,
              "solidity": 0.2
             }
            },
            "type": "histogram"
           }
          ],
          "histogram2d": [
           {
            "colorbar": {
             "outlinewidth": 0,
             "ticks": ""
            },
            "colorscale": [
             [
              0.0,
              "#0d0887"
             ],
             [
              0.1111111111111111,
              "#46039f"
             ],
             [
              0.2222222222222222,
              "#7201a8"
             ],
             [
              0.3333333333333333,
              "#9c179e"
             ],
             [
              0.4444444444444444,
              "#bd3786"
             ],
             [
              0.5555555555555556,
              "#d8576b"
             ],
             [
              0.6666666666666666,
              "#ed7953"
             ],
             [
              0.7777777777777778,
              "#fb9f3a"
             ],
             [
              0.8888888888888888,
              "#fdca26"
             ],
             [
              1.0,
              "#f0f921"
             ]
            ],
            "type": "histogram2d"
           }
          ],
          "histogram2dcontour": [
           {
            "colorbar": {
             "outlinewidth": 0,
             "ticks": ""
            },
            "colorscale": [
             [
              0.0,
              "#0d0887"
             ],
             [
              0.1111111111111111,
              "#46039f"
             ],
             [
              0.2222222222222222,
              "#7201a8"
             ],
             [
              0.3333333333333333,
              "#9c179e"
             ],
             [
              0.4444444444444444,
              "#bd3786"
             ],
             [
              0.5555555555555556,
              "#d8576b"
             ],
             [
              0.6666666666666666,
              "#ed7953"
             ],
             [
              0.7777777777777778,
              "#fb9f3a"
             ],
             [
              0.8888888888888888,
              "#fdca26"
             ],
             [
              1.0,
              "#f0f921"
             ]
            ],
            "type": "histogram2dcontour"
           }
          ],
          "mesh3d": [
           {
            "colorbar": {
             "outlinewidth": 0,
             "ticks": ""
            },
            "type": "mesh3d"
           }
          ],
          "parcoords": [
           {
            "line": {
             "colorbar": {
              "outlinewidth": 0,
              "ticks": ""
             }
            },
            "type": "parcoords"
           }
          ],
          "pie": [
           {
            "automargin": true,
            "type": "pie"
           }
          ],
          "scatter": [
           {
            "fillpattern": {
             "fillmode": "overlay",
             "size": 10,
             "solidity": 0.2
            },
            "type": "scatter"
           }
          ],
          "scatter3d": [
           {
            "line": {
             "colorbar": {
              "outlinewidth": 0,
              "ticks": ""
             }
            },
            "marker": {
             "colorbar": {
              "outlinewidth": 0,
              "ticks": ""
             }
            },
            "type": "scatter3d"
           }
          ],
          "scattercarpet": [
           {
            "marker": {
             "colorbar": {
              "outlinewidth": 0,
              "ticks": ""
             }
            },
            "type": "scattercarpet"
           }
          ],
          "scattergeo": [
           {
            "marker": {
             "colorbar": {
              "outlinewidth": 0,
              "ticks": ""
             }
            },
            "type": "scattergeo"
           }
          ],
          "scattergl": [
           {
            "marker": {
             "colorbar": {
              "outlinewidth": 0,
              "ticks": ""
             }
            },
            "type": "scattergl"
           }
          ],
          "scattermapbox": [
           {
            "marker": {
             "colorbar": {
              "outlinewidth": 0,
              "ticks": ""
             }
            },
            "type": "scattermapbox"
           }
          ],
          "scatterpolar": [
           {
            "marker": {
             "colorbar": {
              "outlinewidth": 0,
              "ticks": ""
             }
            },
            "type": "scatterpolar"
           }
          ],
          "scatterpolargl": [
           {
            "marker": {
             "colorbar": {
              "outlinewidth": 0,
              "ticks": ""
             }
            },
            "type": "scatterpolargl"
           }
          ],
          "scatterternary": [
           {
            "marker": {
             "colorbar": {
              "outlinewidth": 0,
              "ticks": ""
             }
            },
            "type": "scatterternary"
           }
          ],
          "surface": [
           {
            "colorbar": {
             "outlinewidth": 0,
             "ticks": ""
            },
            "colorscale": [
             [
              0.0,
              "#0d0887"
             ],
             [
              0.1111111111111111,
              "#46039f"
             ],
             [
              0.2222222222222222,
              "#7201a8"
             ],
             [
              0.3333333333333333,
              "#9c179e"
             ],
             [
              0.4444444444444444,
              "#bd3786"
             ],
             [
              0.5555555555555556,
              "#d8576b"
             ],
             [
              0.6666666666666666,
              "#ed7953"
             ],
             [
              0.7777777777777778,
              "#fb9f3a"
             ],
             [
              0.8888888888888888,
              "#fdca26"
             ],
             [
              1.0,
              "#f0f921"
             ]
            ],
            "type": "surface"
           }
          ],
          "table": [
           {
            "cells": {
             "fill": {
              "color": "#EBF0F8"
             },
             "line": {
              "color": "white"
             }
            },
            "header": {
             "fill": {
              "color": "#C8D4E3"
             },
             "line": {
              "color": "white"
             }
            },
            "type": "table"
           }
          ]
         },
         "layout": {
          "annotationdefaults": {
           "arrowcolor": "#2a3f5f",
           "arrowhead": 0,
           "arrowwidth": 1
          },
          "autotypenumbers": "strict",
          "coloraxis": {
           "colorbar": {
            "outlinewidth": 0,
            "ticks": ""
           }
          },
          "colorscale": {
           "diverging": [
            [
             0,
             "#8e0152"
            ],
            [
             0.1,
             "#c51b7d"
            ],
            [
             0.2,
             "#de77ae"
            ],
            [
             0.3,
             "#f1b6da"
            ],
            [
             0.4,
             "#fde0ef"
            ],
            [
             0.5,
             "#f7f7f7"
            ],
            [
             0.6,
             "#e6f5d0"
            ],
            [
             0.7,
             "#b8e186"
            ],
            [
             0.8,
             "#7fbc41"
            ],
            [
             0.9,
             "#4d9221"
            ],
            [
             1,
             "#276419"
            ]
           ],
           "sequential": [
            [
             0.0,
             "#0d0887"
            ],
            [
             0.1111111111111111,
             "#46039f"
            ],
            [
             0.2222222222222222,
             "#7201a8"
            ],
            [
             0.3333333333333333,
             "#9c179e"
            ],
            [
             0.4444444444444444,
             "#bd3786"
            ],
            [
             0.5555555555555556,
             "#d8576b"
            ],
            [
             0.6666666666666666,
             "#ed7953"
            ],
            [
             0.7777777777777778,
             "#fb9f3a"
            ],
            [
             0.8888888888888888,
             "#fdca26"
            ],
            [
             1.0,
             "#f0f921"
            ]
           ],
           "sequentialminus": [
            [
             0.0,
             "#0d0887"
            ],
            [
             0.1111111111111111,
             "#46039f"
            ],
            [
             0.2222222222222222,
             "#7201a8"
            ],
            [
             0.3333333333333333,
             "#9c179e"
            ],
            [
             0.4444444444444444,
             "#bd3786"
            ],
            [
             0.5555555555555556,
             "#d8576b"
            ],
            [
             0.6666666666666666,
             "#ed7953"
            ],
            [
             0.7777777777777778,
             "#fb9f3a"
            ],
            [
             0.8888888888888888,
             "#fdca26"
            ],
            [
             1.0,
             "#f0f921"
            ]
           ]
          },
          "colorway": [
           "#636efa",
           "#EF553B",
           "#00cc96",
           "#ab63fa",
           "#FFA15A",
           "#19d3f3",
           "#FF6692",
           "#B6E880",
           "#FF97FF",
           "#FECB52"
          ],
          "font": {
           "color": "#2a3f5f"
          },
          "geo": {
           "bgcolor": "white",
           "lakecolor": "white",
           "landcolor": "#E5ECF6",
           "showlakes": true,
           "showland": true,
           "subunitcolor": "white"
          },
          "hoverlabel": {
           "align": "left"
          },
          "hovermode": "closest",
          "mapbox": {
           "style": "light"
          },
          "paper_bgcolor": "white",
          "plot_bgcolor": "#E5ECF6",
          "polar": {
           "angularaxis": {
            "gridcolor": "white",
            "linecolor": "white",
            "ticks": ""
           },
           "bgcolor": "#E5ECF6",
           "radialaxis": {
            "gridcolor": "white",
            "linecolor": "white",
            "ticks": ""
           }
          },
          "scene": {
           "xaxis": {
            "backgroundcolor": "#E5ECF6",
            "gridcolor": "white",
            "gridwidth": 2,
            "linecolor": "white",
            "showbackground": true,
            "ticks": "",
            "zerolinecolor": "white"
           },
           "yaxis": {
            "backgroundcolor": "#E5ECF6",
            "gridcolor": "white",
            "gridwidth": 2,
            "linecolor": "white",
            "showbackground": true,
            "ticks": "",
            "zerolinecolor": "white"
           },
           "zaxis": {
            "backgroundcolor": "#E5ECF6",
            "gridcolor": "white",
            "gridwidth": 2,
            "linecolor": "white",
            "showbackground": true,
            "ticks": "",
            "zerolinecolor": "white"
           }
          },
          "shapedefaults": {
           "line": {
            "color": "#2a3f5f"
           }
          },
          "ternary": {
           "aaxis": {
            "gridcolor": "white",
            "linecolor": "white",
            "ticks": ""
           },
           "baxis": {
            "gridcolor": "white",
            "linecolor": "white",
            "ticks": ""
           },
           "bgcolor": "#E5ECF6",
           "caxis": {
            "gridcolor": "white",
            "linecolor": "white",
            "ticks": ""
           }
          },
          "title": {
           "x": 0.05
          },
          "xaxis": {
           "automargin": true,
           "gridcolor": "white",
           "linecolor": "white",
           "ticks": "",
           "title": {
            "standoff": 15
           },
           "zerolinecolor": "white",
           "zerolinewidth": 2
          },
          "yaxis": {
           "automargin": true,
           "gridcolor": "white",
           "linecolor": "white",
           "ticks": "",
           "title": {
            "standoff": 15
           },
           "zerolinecolor": "white",
           "zerolinewidth": 2
          }
         }
        },
        "title": {
         "font": {
          "color": "#4D5663"
         },
         "text": "Stroke Ages"
        },
        "xaxis": {
         "gridcolor": "#E1E5ED",
         "showgrid": true,
         "tickfont": {
          "color": "#4D5663"
         },
         "title": {
          "font": {
           "color": "#4D5663"
          },
          "text": "Ages"
         },
         "zerolinecolor": "#E1E5ED"
        },
        "yaxis": {
         "gridcolor": "#E1E5ED",
         "showgrid": true,
         "tickfont": {
          "color": "#4D5663"
         },
         "title": {
          "font": {
           "color": "#4D5663"
          },
          "text": "Count"
         },
         "zerolinecolor": "#E1E5ED"
        }
       }
      },
      "text/html": [
       "<div>                            <div id=\"ce96a563-c53d-43eb-b2cd-ad8656e21849\" class=\"plotly-graph-div\" style=\"height:525px; width:100%;\"></div>            <script type=\"text/javascript\">                require([\"plotly\"], function(Plotly) {                    window.PLOTLYENV=window.PLOTLYENV || {};\n",
       "                    window.PLOTLYENV.BASE_URL='https://plot.ly';                                    if (document.getElementById(\"ce96a563-c53d-43eb-b2cd-ad8656e21849\")) {                    Plotly.newPlot(                        \"ce96a563-c53d-43eb-b2cd-ad8656e21849\",                        [{\"histfunc\":\"count\",\"histnorm\":\"\",\"marker\":{\"color\":\"rgba(255, 153, 51, 1.0)\",\"line\":{\"color\":\"#4D5663\",\"width\":1.3}},\"name\":\"male_age\",\"nbinsx\":20,\"opacity\":0.8,\"orientation\":\"v\",\"x\":[67.0,80.0,null,null,81.0,74.0,null,null,null,null,null,null,null,64.0,75.0,null,null,null,null,82.0,71.0,80.0,null,69.0,57.0,42.0,null,80.0,48.0,null,74.0,null,58.0,null,78.0,54.0,82.0,60.0,76.0,null,81.0,null,null,null,63.0,null,73.0,null,null,null,null,null,78.0,null,76.0,59.0,null,null,null,63.0,null,null,80.0,null,43.0,59.0,null,null,54.0,61.0,null,47.0,74.0,null,81.0,null,null,45.0,null,null,58.0,57.0,null,64.0,null,null,null,null,null,null,null,null,79.0,80.0,null,71.0,61.0,74.0,null,null,null,null,80.0,56.0,null,null,82.0,null,null,69.0,null,null,76.0,null,76.0,null,82.0,null,null,null,null,66.0,null,null,null,68.0,null,68.0,null,null,null,null,null,null,null,null,78.0,null,null,81.0,null,null,72.0,null,78.0,81.0,null,59.0,null,61.0,63.0,63.0,null,82.0,null,51.0,59.0,68.0,null,59.0,70.0,69.0,null,80.0,null,null,54.0,null,null,78.0,78.0,null,null,null,63.0,null,null,null,78.0,null,73.0,81.0,79.0,null,null,49.0,null,null,null,null,null,null,null,null,78.0,null,57.0,77.0,null,60.0,66.0,57.0,68.0,null,57.0,null,null,null,null,null,78.0,57.0,58.0,59.0,null,null,null,78.0,null,78.0,75.0,null,null,null,58.0,58.0,null,null,78.0,null,null,65.0,null,null,71.0,null,79.0,64.0,null,null,null,null,61.0,79.0,74.0,null,74.0,71.0],\"type\":\"histogram\"},{\"histfunc\":\"count\",\"histnorm\":\"\",\"marker\":{\"color\":\"rgba(55, 128, 191, 1.0)\",\"line\":{\"color\":\"#4D5663\",\"width\":1.3}},\"name\":\"female_age\",\"nbinsx\":20,\"opacity\":0.8,\"orientation\":\"v\",\"x\":[null,null,49.0,79.0,null,null,69.0,78.0,81.0,61.0,54.0,79.0,50.0,null,null,60.0,71.0,52.0,79.0,null,null,null,65.0,null,null,null,82.0,null,null,82.0,null,72.0,null,49.0,null,null,null,null,null,58.0,null,39.0,79.0,77.0,null,82.0,null,54.0,56.0,80.0,67.0,45.0,null,70.0,null,null,80.0,67.0,66.0,null,52.0,80.0,null,79.0,null,null,79.0,68.0,null,null,70.0,null,null,79.0,null,57.0,80.0,null,78.0,70.0,null,null,69.0,null,77.0,74.0,81.0,57.0,50.0,54.0,79.0,53.0,null,null,68.0,null,null,null,38.0,77.0,58.0,53.0,null,null,72.0,80.0,null,73.0,78.0,null,68.0,71.0,null,76.0,null,75.0,null,59.0,74.0,69.0,72.0,null,78.0,57.0,70.0,null,80.0,null,55.0,77.0,50.0,57.0,71.0,81.0,78.0,70.0,null,56.0,79.0,null,60.0,80.0,null,80.0,null,null,46.0,null,32.0,null,null,null,82.0,null,65.0,null,null,null,72.0,null,null,null,74.0,null,77.0,78.0,null,78.0,81.0,null,null,63.0,39.0,51.0,null,48.0,81.0,79.0,null,55.0,null,null,null,63.0,81.0,null,57.0,81.0,39.0,80.0,81.0,79.0,73.0,77.0,null,68.0,null,null,51.0,null,null,null,null,68.0,null,14.0,75.0,78.0,61.0,59.0,null,null,null,null,63.0,75.0,76.0,null,63.0,null,null,76.0,51.0,66.0,null,null,76.0,72.0,null,75.0,38.0,null,79.0,76.0,null,1.32,null,null,79.0,78.0,80.0,77.0,null,null,null,76.0,null,null],\"type\":\"histogram\"}],                        {\"barmode\":\"overlay\",\"legend\":{\"bgcolor\":\"#FFFFFF\",\"font\":{\"color\":\"#4D5663\"}},\"paper_bgcolor\":\"#FFFFFF\",\"plot_bgcolor\":\"#FFFFFF\",\"template\":{\"data\":{\"barpolar\":[{\"marker\":{\"line\":{\"color\":\"#E5ECF6\",\"width\":0.5},\"pattern\":{\"fillmode\":\"overlay\",\"size\":10,\"solidity\":0.2}},\"type\":\"barpolar\"}],\"bar\":[{\"error_x\":{\"color\":\"#2a3f5f\"},\"error_y\":{\"color\":\"#2a3f5f\"},\"marker\":{\"line\":{\"color\":\"#E5ECF6\",\"width\":0.5},\"pattern\":{\"fillmode\":\"overlay\",\"size\":10,\"solidity\":0.2}},\"type\":\"bar\"}],\"carpet\":[{\"aaxis\":{\"endlinecolor\":\"#2a3f5f\",\"gridcolor\":\"white\",\"linecolor\":\"white\",\"minorgridcolor\":\"white\",\"startlinecolor\":\"#2a3f5f\"},\"baxis\":{\"endlinecolor\":\"#2a3f5f\",\"gridcolor\":\"white\",\"linecolor\":\"white\",\"minorgridcolor\":\"white\",\"startlinecolor\":\"#2a3f5f\"},\"type\":\"carpet\"}],\"choropleth\":[{\"colorbar\":{\"outlinewidth\":0,\"ticks\":\"\"},\"type\":\"choropleth\"}],\"contourcarpet\":[{\"colorbar\":{\"outlinewidth\":0,\"ticks\":\"\"},\"type\":\"contourcarpet\"}],\"contour\":[{\"colorbar\":{\"outlinewidth\":0,\"ticks\":\"\"},\"colorscale\":[[0.0,\"#0d0887\"],[0.1111111111111111,\"#46039f\"],[0.2222222222222222,\"#7201a8\"],[0.3333333333333333,\"#9c179e\"],[0.4444444444444444,\"#bd3786\"],[0.5555555555555556,\"#d8576b\"],[0.6666666666666666,\"#ed7953\"],[0.7777777777777778,\"#fb9f3a\"],[0.8888888888888888,\"#fdca26\"],[1.0,\"#f0f921\"]],\"type\":\"contour\"}],\"heatmapgl\":[{\"colorbar\":{\"outlinewidth\":0,\"ticks\":\"\"},\"colorscale\":[[0.0,\"#0d0887\"],[0.1111111111111111,\"#46039f\"],[0.2222222222222222,\"#7201a8\"],[0.3333333333333333,\"#9c179e\"],[0.4444444444444444,\"#bd3786\"],[0.5555555555555556,\"#d8576b\"],[0.6666666666666666,\"#ed7953\"],[0.7777777777777778,\"#fb9f3a\"],[0.8888888888888888,\"#fdca26\"],[1.0,\"#f0f921\"]],\"type\":\"heatmapgl\"}],\"heatmap\":[{\"colorbar\":{\"outlinewidth\":0,\"ticks\":\"\"},\"colorscale\":[[0.0,\"#0d0887\"],[0.1111111111111111,\"#46039f\"],[0.2222222222222222,\"#7201a8\"],[0.3333333333333333,\"#9c179e\"],[0.4444444444444444,\"#bd3786\"],[0.5555555555555556,\"#d8576b\"],[0.6666666666666666,\"#ed7953\"],[0.7777777777777778,\"#fb9f3a\"],[0.8888888888888888,\"#fdca26\"],[1.0,\"#f0f921\"]],\"type\":\"heatmap\"}],\"histogram2dcontour\":[{\"colorbar\":{\"outlinewidth\":0,\"ticks\":\"\"},\"colorscale\":[[0.0,\"#0d0887\"],[0.1111111111111111,\"#46039f\"],[0.2222222222222222,\"#7201a8\"],[0.3333333333333333,\"#9c179e\"],[0.4444444444444444,\"#bd3786\"],[0.5555555555555556,\"#d8576b\"],[0.6666666666666666,\"#ed7953\"],[0.7777777777777778,\"#fb9f3a\"],[0.8888888888888888,\"#fdca26\"],[1.0,\"#f0f921\"]],\"type\":\"histogram2dcontour\"}],\"histogram2d\":[{\"colorbar\":{\"outlinewidth\":0,\"ticks\":\"\"},\"colorscale\":[[0.0,\"#0d0887\"],[0.1111111111111111,\"#46039f\"],[0.2222222222222222,\"#7201a8\"],[0.3333333333333333,\"#9c179e\"],[0.4444444444444444,\"#bd3786\"],[0.5555555555555556,\"#d8576b\"],[0.6666666666666666,\"#ed7953\"],[0.7777777777777778,\"#fb9f3a\"],[0.8888888888888888,\"#fdca26\"],[1.0,\"#f0f921\"]],\"type\":\"histogram2d\"}],\"histogram\":[{\"marker\":{\"pattern\":{\"fillmode\":\"overlay\",\"size\":10,\"solidity\":0.2}},\"type\":\"histogram\"}],\"mesh3d\":[{\"colorbar\":{\"outlinewidth\":0,\"ticks\":\"\"},\"type\":\"mesh3d\"}],\"parcoords\":[{\"line\":{\"colorbar\":{\"outlinewidth\":0,\"ticks\":\"\"}},\"type\":\"parcoords\"}],\"pie\":[{\"automargin\":true,\"type\":\"pie\"}],\"scatter3d\":[{\"line\":{\"colorbar\":{\"outlinewidth\":0,\"ticks\":\"\"}},\"marker\":{\"colorbar\":{\"outlinewidth\":0,\"ticks\":\"\"}},\"type\":\"scatter3d\"}],\"scattercarpet\":[{\"marker\":{\"colorbar\":{\"outlinewidth\":0,\"ticks\":\"\"}},\"type\":\"scattercarpet\"}],\"scattergeo\":[{\"marker\":{\"colorbar\":{\"outlinewidth\":0,\"ticks\":\"\"}},\"type\":\"scattergeo\"}],\"scattergl\":[{\"marker\":{\"colorbar\":{\"outlinewidth\":0,\"ticks\":\"\"}},\"type\":\"scattergl\"}],\"scattermapbox\":[{\"marker\":{\"colorbar\":{\"outlinewidth\":0,\"ticks\":\"\"}},\"type\":\"scattermapbox\"}],\"scatterpolargl\":[{\"marker\":{\"colorbar\":{\"outlinewidth\":0,\"ticks\":\"\"}},\"type\":\"scatterpolargl\"}],\"scatterpolar\":[{\"marker\":{\"colorbar\":{\"outlinewidth\":0,\"ticks\":\"\"}},\"type\":\"scatterpolar\"}],\"scatter\":[{\"fillpattern\":{\"fillmode\":\"overlay\",\"size\":10,\"solidity\":0.2},\"type\":\"scatter\"}],\"scatterternary\":[{\"marker\":{\"colorbar\":{\"outlinewidth\":0,\"ticks\":\"\"}},\"type\":\"scatterternary\"}],\"surface\":[{\"colorbar\":{\"outlinewidth\":0,\"ticks\":\"\"},\"colorscale\":[[0.0,\"#0d0887\"],[0.1111111111111111,\"#46039f\"],[0.2222222222222222,\"#7201a8\"],[0.3333333333333333,\"#9c179e\"],[0.4444444444444444,\"#bd3786\"],[0.5555555555555556,\"#d8576b\"],[0.6666666666666666,\"#ed7953\"],[0.7777777777777778,\"#fb9f3a\"],[0.8888888888888888,\"#fdca26\"],[1.0,\"#f0f921\"]],\"type\":\"surface\"}],\"table\":[{\"cells\":{\"fill\":{\"color\":\"#EBF0F8\"},\"line\":{\"color\":\"white\"}},\"header\":{\"fill\":{\"color\":\"#C8D4E3\"},\"line\":{\"color\":\"white\"}},\"type\":\"table\"}]},\"layout\":{\"annotationdefaults\":{\"arrowcolor\":\"#2a3f5f\",\"arrowhead\":0,\"arrowwidth\":1},\"autotypenumbers\":\"strict\",\"coloraxis\":{\"colorbar\":{\"outlinewidth\":0,\"ticks\":\"\"}},\"colorscale\":{\"diverging\":[[0,\"#8e0152\"],[0.1,\"#c51b7d\"],[0.2,\"#de77ae\"],[0.3,\"#f1b6da\"],[0.4,\"#fde0ef\"],[0.5,\"#f7f7f7\"],[0.6,\"#e6f5d0\"],[0.7,\"#b8e186\"],[0.8,\"#7fbc41\"],[0.9,\"#4d9221\"],[1,\"#276419\"]],\"sequential\":[[0.0,\"#0d0887\"],[0.1111111111111111,\"#46039f\"],[0.2222222222222222,\"#7201a8\"],[0.3333333333333333,\"#9c179e\"],[0.4444444444444444,\"#bd3786\"],[0.5555555555555556,\"#d8576b\"],[0.6666666666666666,\"#ed7953\"],[0.7777777777777778,\"#fb9f3a\"],[0.8888888888888888,\"#fdca26\"],[1.0,\"#f0f921\"]],\"sequentialminus\":[[0.0,\"#0d0887\"],[0.1111111111111111,\"#46039f\"],[0.2222222222222222,\"#7201a8\"],[0.3333333333333333,\"#9c179e\"],[0.4444444444444444,\"#bd3786\"],[0.5555555555555556,\"#d8576b\"],[0.6666666666666666,\"#ed7953\"],[0.7777777777777778,\"#fb9f3a\"],[0.8888888888888888,\"#fdca26\"],[1.0,\"#f0f921\"]]},\"colorway\":[\"#636efa\",\"#EF553B\",\"#00cc96\",\"#ab63fa\",\"#FFA15A\",\"#19d3f3\",\"#FF6692\",\"#B6E880\",\"#FF97FF\",\"#FECB52\"],\"font\":{\"color\":\"#2a3f5f\"},\"geo\":{\"bgcolor\":\"white\",\"lakecolor\":\"white\",\"landcolor\":\"#E5ECF6\",\"showlakes\":true,\"showland\":true,\"subunitcolor\":\"white\"},\"hoverlabel\":{\"align\":\"left\"},\"hovermode\":\"closest\",\"mapbox\":{\"style\":\"light\"},\"paper_bgcolor\":\"white\",\"plot_bgcolor\":\"#E5ECF6\",\"polar\":{\"angularaxis\":{\"gridcolor\":\"white\",\"linecolor\":\"white\",\"ticks\":\"\"},\"bgcolor\":\"#E5ECF6\",\"radialaxis\":{\"gridcolor\":\"white\",\"linecolor\":\"white\",\"ticks\":\"\"}},\"scene\":{\"xaxis\":{\"backgroundcolor\":\"#E5ECF6\",\"gridcolor\":\"white\",\"gridwidth\":2,\"linecolor\":\"white\",\"showbackground\":true,\"ticks\":\"\",\"zerolinecolor\":\"white\"},\"yaxis\":{\"backgroundcolor\":\"#E5ECF6\",\"gridcolor\":\"white\",\"gridwidth\":2,\"linecolor\":\"white\",\"showbackground\":true,\"ticks\":\"\",\"zerolinecolor\":\"white\"},\"zaxis\":{\"backgroundcolor\":\"#E5ECF6\",\"gridcolor\":\"white\",\"gridwidth\":2,\"linecolor\":\"white\",\"showbackground\":true,\"ticks\":\"\",\"zerolinecolor\":\"white\"}},\"shapedefaults\":{\"line\":{\"color\":\"#2a3f5f\"}},\"ternary\":{\"aaxis\":{\"gridcolor\":\"white\",\"linecolor\":\"white\",\"ticks\":\"\"},\"baxis\":{\"gridcolor\":\"white\",\"linecolor\":\"white\",\"ticks\":\"\"},\"bgcolor\":\"#E5ECF6\",\"caxis\":{\"gridcolor\":\"white\",\"linecolor\":\"white\",\"ticks\":\"\"}},\"title\":{\"x\":0.05},\"xaxis\":{\"automargin\":true,\"gridcolor\":\"white\",\"linecolor\":\"white\",\"ticks\":\"\",\"title\":{\"standoff\":15},\"zerolinecolor\":\"white\",\"zerolinewidth\":2},\"yaxis\":{\"automargin\":true,\"gridcolor\":\"white\",\"linecolor\":\"white\",\"ticks\":\"\",\"title\":{\"standoff\":15},\"zerolinecolor\":\"white\",\"zerolinewidth\":2}}},\"title\":{\"font\":{\"color\":\"#4D5663\"},\"text\":\"Stroke Ages\"},\"xaxis\":{\"gridcolor\":\"#E1E5ED\",\"showgrid\":true,\"tickfont\":{\"color\":\"#4D5663\"},\"title\":{\"font\":{\"color\":\"#4D5663\"},\"text\":\"Ages\"},\"zerolinecolor\":\"#E1E5ED\"},\"yaxis\":{\"gridcolor\":\"#E1E5ED\",\"showgrid\":true,\"tickfont\":{\"color\":\"#4D5663\"},\"title\":{\"font\":{\"color\":\"#4D5663\"},\"text\":\"Count\"},\"zerolinecolor\":\"#E1E5ED\"}},                        {\"showLink\": true, \"linkText\": \"Export to plot.ly\", \"plotlyServerURL\": \"https://plot.ly\", \"responsive\": true}                    ).then(function(){\n",
       "                            \n",
       "var gd = document.getElementById('ce96a563-c53d-43eb-b2cd-ad8656e21849');\n",
       "var x = new MutationObserver(function (mutations, observer) {{\n",
       "        var display = window.getComputedStyle(gd).display;\n",
       "        if (!display || display === 'none') {{\n",
       "            console.log([gd, 'removed!']);\n",
       "            Plotly.purge(gd);\n",
       "            observer.disconnect();\n",
       "        }}\n",
       "}});\n",
       "\n",
       "// Listen for the removal of the full notebook cells\n",
       "var notebookContainer = gd.closest('#notebook-container');\n",
       "if (notebookContainer) {{\n",
       "    x.observe(notebookContainer, {childList: true});\n",
       "}}\n",
       "\n",
       "// Listen for the clearing of the current output cell\n",
       "var outputEl = gd.closest('.output');\n",
       "if (outputEl) {{\n",
       "    x.observe(outputEl, {childList: true});\n",
       "}}\n",
       "\n",
       "                        })                };                });            </script>        </div>"
      ]
     },
     "metadata": {},
     "output_type": "display_data"
    }
   ],
   "source": [
    "stroke = df.loc[df['stroke']== 1].reset_index()\n",
    "\n",
    "stroke[\"male_age\"]=stroke[stroke[\"gender\"]==\"Male\"][\"age\"]\n",
    "stroke[\"female_age\"]=stroke[stroke[\"gender\"]==\"Female\"][\"age\"]\n",
    "stroke[[\"male_age\",\"female_age\"]].iplot(kind=\"histogram\", bins=20, theme=\"white\", title=\"Stroke Ages\",\n",
    "         xTitle='Ages', yTitle='Count')"
   ]
  },
  {
   "cell_type": "markdown",
   "id": "82d19e02",
   "metadata": {
    "papermill": {
     "duration": 0.025084,
     "end_time": "2024-05-17T10:44:28.644346",
     "exception": false,
     "start_time": "2024-05-17T10:44:28.619262",
     "status": "completed"
    },
    "tags": []
   },
   "source": [
    "You are able to turn on and off the gender for better vizualisation"
   ]
  },
  {
   "cell_type": "markdown",
   "id": "a0bfbfc5",
   "metadata": {
    "papermill": {
     "duration": 0.025067,
     "end_time": "2024-05-17T10:44:28.695120",
     "exception": false,
     "start_time": "2024-05-17T10:44:28.670053",
     "status": "completed"
    },
    "tags": []
   },
   "source": [
    "<a id=\"title-five\"></a>\n",
    "<h1 style='background:#C4F1E8; border:2; border-radius: 10px; color:black'><center>DATA PREPROCESSING</center></h1>"
   ]
  },
  {
   "cell_type": "markdown",
   "id": "8dc0d857",
   "metadata": {
    "papermill": {
     "duration": 0.025615,
     "end_time": "2024-05-17T10:44:28.746651",
     "exception": false,
     "start_time": "2024-05-17T10:44:28.721036",
     "status": "completed"
    },
    "tags": []
   },
   "source": [
    "<h3 style='background:#F1C4EF; border:1; border-radius:10px; color:black'><center>Handling Categorical Columns</center></h3>"
   ]
  },
  {
   "cell_type": "code",
   "execution_count": 13,
   "id": "ac0562d7",
   "metadata": {
    "execution": {
     "iopub.execute_input": "2024-05-17T10:44:28.799128Z",
     "iopub.status.busy": "2024-05-17T10:44:28.798731Z",
     "iopub.status.idle": "2024-05-17T10:44:28.826081Z",
     "shell.execute_reply": "2024-05-17T10:44:28.825105Z"
    },
    "papermill": {
     "duration": 0.056078,
     "end_time": "2024-05-17T10:44:28.828293",
     "exception": false,
     "start_time": "2024-05-17T10:44:28.772215",
     "status": "completed"
    },
    "tags": []
   },
   "outputs": [
    {
     "data": {
      "text/html": [
       "<div>\n",
       "<style scoped>\n",
       "    .dataframe tbody tr th:only-of-type {\n",
       "        vertical-align: middle;\n",
       "    }\n",
       "\n",
       "    .dataframe tbody tr th {\n",
       "        vertical-align: top;\n",
       "    }\n",
       "\n",
       "    .dataframe thead th {\n",
       "        text-align: right;\n",
       "    }\n",
       "</style>\n",
       "<table border=\"1\" class=\"dataframe\">\n",
       "  <thead>\n",
       "    <tr style=\"text-align: right;\">\n",
       "      <th></th>\n",
       "      <th>gender</th>\n",
       "      <th>age</th>\n",
       "      <th>hypertension</th>\n",
       "      <th>heart_disease</th>\n",
       "      <th>ever_married</th>\n",
       "      <th>work_type</th>\n",
       "      <th>Residence_type</th>\n",
       "      <th>avg_glucose_level</th>\n",
       "      <th>bmi</th>\n",
       "      <th>smoking_status</th>\n",
       "      <th>stroke</th>\n",
       "    </tr>\n",
       "  </thead>\n",
       "  <tbody>\n",
       "    <tr>\n",
       "      <th>0</th>\n",
       "      <td>0</td>\n",
       "      <td>67.0</td>\n",
       "      <td>0</td>\n",
       "      <td>1</td>\n",
       "      <td>1</td>\n",
       "      <td>Private</td>\n",
       "      <td>Urban</td>\n",
       "      <td>228.69</td>\n",
       "      <td>36.6</td>\n",
       "      <td>formerly smoked</td>\n",
       "      <td>1</td>\n",
       "    </tr>\n",
       "    <tr>\n",
       "      <th>1</th>\n",
       "      <td>0</td>\n",
       "      <td>80.0</td>\n",
       "      <td>0</td>\n",
       "      <td>1</td>\n",
       "      <td>1</td>\n",
       "      <td>Private</td>\n",
       "      <td>Rural</td>\n",
       "      <td>105.92</td>\n",
       "      <td>32.5</td>\n",
       "      <td>never smoked</td>\n",
       "      <td>1</td>\n",
       "    </tr>\n",
       "    <tr>\n",
       "      <th>2</th>\n",
       "      <td>1</td>\n",
       "      <td>49.0</td>\n",
       "      <td>0</td>\n",
       "      <td>0</td>\n",
       "      <td>1</td>\n",
       "      <td>Private</td>\n",
       "      <td>Urban</td>\n",
       "      <td>171.23</td>\n",
       "      <td>34.4</td>\n",
       "      <td>smokes</td>\n",
       "      <td>1</td>\n",
       "    </tr>\n",
       "    <tr>\n",
       "      <th>3</th>\n",
       "      <td>1</td>\n",
       "      <td>79.0</td>\n",
       "      <td>1</td>\n",
       "      <td>0</td>\n",
       "      <td>1</td>\n",
       "      <td>Self-employed</td>\n",
       "      <td>Rural</td>\n",
       "      <td>174.12</td>\n",
       "      <td>24.0</td>\n",
       "      <td>never smoked</td>\n",
       "      <td>1</td>\n",
       "    </tr>\n",
       "    <tr>\n",
       "      <th>4</th>\n",
       "      <td>0</td>\n",
       "      <td>81.0</td>\n",
       "      <td>0</td>\n",
       "      <td>0</td>\n",
       "      <td>1</td>\n",
       "      <td>Private</td>\n",
       "      <td>Urban</td>\n",
       "      <td>186.21</td>\n",
       "      <td>29.0</td>\n",
       "      <td>formerly smoked</td>\n",
       "      <td>1</td>\n",
       "    </tr>\n",
       "  </tbody>\n",
       "</table>\n",
       "</div>"
      ],
      "text/plain": [
       "   gender   age  hypertension  heart_disease  ever_married      work_type  \\\n",
       "0       0  67.0             0              1             1        Private   \n",
       "1       0  80.0             0              1             1        Private   \n",
       "2       1  49.0             0              0             1        Private   \n",
       "3       1  79.0             1              0             1  Self-employed   \n",
       "4       0  81.0             0              0             1        Private   \n",
       "\n",
       "  Residence_type  avg_glucose_level   bmi   smoking_status  stroke  \n",
       "0          Urban             228.69  36.6  formerly smoked       1  \n",
       "1          Rural             105.92  32.5     never smoked       1  \n",
       "2          Urban             171.23  34.4           smokes       1  \n",
       "3          Rural             174.12  24.0     never smoked       1  \n",
       "4          Urban             186.21  29.0  formerly smoked       1  "
      ]
     },
     "execution_count": 13,
     "metadata": {},
     "output_type": "execute_result"
    }
   ],
   "source": [
    "df['ever_married'] = [ 0 if i !='Yes' else 1 for i in df['ever_married'] ]\n",
    "df['gender'] = [0 if i != 'Female' else 1 for i in df['gender']]\n",
    "df.head(5)"
   ]
  },
  {
   "cell_type": "code",
   "execution_count": 14,
   "id": "4d0eec3c",
   "metadata": {
    "execution": {
     "iopub.execute_input": "2024-05-17T10:44:28.881373Z",
     "iopub.status.busy": "2024-05-17T10:44:28.881094Z",
     "iopub.status.idle": "2024-05-17T10:44:28.909339Z",
     "shell.execute_reply": "2024-05-17T10:44:28.908209Z"
    },
    "papermill": {
     "duration": 0.057092,
     "end_time": "2024-05-17T10:44:28.911432",
     "exception": false,
     "start_time": "2024-05-17T10:44:28.854340",
     "status": "completed"
    },
    "tags": []
   },
   "outputs": [
    {
     "data": {
      "text/html": [
       "<div>\n",
       "<style scoped>\n",
       "    .dataframe tbody tr th:only-of-type {\n",
       "        vertical-align: middle;\n",
       "    }\n",
       "\n",
       "    .dataframe tbody tr th {\n",
       "        vertical-align: top;\n",
       "    }\n",
       "\n",
       "    .dataframe thead th {\n",
       "        text-align: right;\n",
       "    }\n",
       "</style>\n",
       "<table border=\"1\" class=\"dataframe\">\n",
       "  <thead>\n",
       "    <tr style=\"text-align: right;\">\n",
       "      <th></th>\n",
       "      <th>gender</th>\n",
       "      <th>age</th>\n",
       "      <th>hypertension</th>\n",
       "      <th>heart_disease</th>\n",
       "      <th>ever_married</th>\n",
       "      <th>avg_glucose_level</th>\n",
       "      <th>bmi</th>\n",
       "      <th>stroke</th>\n",
       "      <th>work_type_Govt_job</th>\n",
       "      <th>work_type_Private</th>\n",
       "      <th>work_type_Self-employed</th>\n",
       "      <th>work_type_children</th>\n",
       "      <th>Residence_type_Rural</th>\n",
       "      <th>Residence_type_Urban</th>\n",
       "      <th>smoking_status_Unknown</th>\n",
       "      <th>smoking_status_formerly smoked</th>\n",
       "      <th>smoking_status_never smoked</th>\n",
       "      <th>smoking_status_smokes</th>\n",
       "    </tr>\n",
       "  </thead>\n",
       "  <tbody>\n",
       "    <tr>\n",
       "      <th>2321</th>\n",
       "      <td>1</td>\n",
       "      <td>39.0</td>\n",
       "      <td>0</td>\n",
       "      <td>0</td>\n",
       "      <td>1</td>\n",
       "      <td>78.90</td>\n",
       "      <td>26.7</td>\n",
       "      <td>0</td>\n",
       "      <td>0</td>\n",
       "      <td>1</td>\n",
       "      <td>0</td>\n",
       "      <td>0</td>\n",
       "      <td>0</td>\n",
       "      <td>1</td>\n",
       "      <td>0</td>\n",
       "      <td>0</td>\n",
       "      <td>1</td>\n",
       "      <td>0</td>\n",
       "    </tr>\n",
       "    <tr>\n",
       "      <th>656</th>\n",
       "      <td>1</td>\n",
       "      <td>51.0</td>\n",
       "      <td>0</td>\n",
       "      <td>0</td>\n",
       "      <td>1</td>\n",
       "      <td>67.97</td>\n",
       "      <td>29.4</td>\n",
       "      <td>0</td>\n",
       "      <td>0</td>\n",
       "      <td>0</td>\n",
       "      <td>1</td>\n",
       "      <td>0</td>\n",
       "      <td>1</td>\n",
       "      <td>0</td>\n",
       "      <td>0</td>\n",
       "      <td>0</td>\n",
       "      <td>0</td>\n",
       "      <td>1</td>\n",
       "    </tr>\n",
       "    <tr>\n",
       "      <th>4194</th>\n",
       "      <td>0</td>\n",
       "      <td>52.0</td>\n",
       "      <td>0</td>\n",
       "      <td>0</td>\n",
       "      <td>1</td>\n",
       "      <td>208.39</td>\n",
       "      <td>36.0</td>\n",
       "      <td>0</td>\n",
       "      <td>1</td>\n",
       "      <td>0</td>\n",
       "      <td>0</td>\n",
       "      <td>0</td>\n",
       "      <td>0</td>\n",
       "      <td>1</td>\n",
       "      <td>0</td>\n",
       "      <td>1</td>\n",
       "      <td>0</td>\n",
       "      <td>0</td>\n",
       "    </tr>\n",
       "    <tr>\n",
       "      <th>2741</th>\n",
       "      <td>0</td>\n",
       "      <td>48.0</td>\n",
       "      <td>0</td>\n",
       "      <td>0</td>\n",
       "      <td>1</td>\n",
       "      <td>100.03</td>\n",
       "      <td>23.5</td>\n",
       "      <td>0</td>\n",
       "      <td>0</td>\n",
       "      <td>1</td>\n",
       "      <td>0</td>\n",
       "      <td>0</td>\n",
       "      <td>0</td>\n",
       "      <td>1</td>\n",
       "      <td>0</td>\n",
       "      <td>0</td>\n",
       "      <td>1</td>\n",
       "      <td>0</td>\n",
       "    </tr>\n",
       "    <tr>\n",
       "      <th>2658</th>\n",
       "      <td>0</td>\n",
       "      <td>76.0</td>\n",
       "      <td>0</td>\n",
       "      <td>0</td>\n",
       "      <td>1</td>\n",
       "      <td>192.39</td>\n",
       "      <td>31.0</td>\n",
       "      <td>0</td>\n",
       "      <td>0</td>\n",
       "      <td>1</td>\n",
       "      <td>0</td>\n",
       "      <td>0</td>\n",
       "      <td>0</td>\n",
       "      <td>1</td>\n",
       "      <td>0</td>\n",
       "      <td>0</td>\n",
       "      <td>1</td>\n",
       "      <td>0</td>\n",
       "    </tr>\n",
       "  </tbody>\n",
       "</table>\n",
       "</div>"
      ],
      "text/plain": [
       "      gender   age  hypertension  heart_disease  ever_married  \\\n",
       "2321       1  39.0             0              0             1   \n",
       "656        1  51.0             0              0             1   \n",
       "4194       0  52.0             0              0             1   \n",
       "2741       0  48.0             0              0             1   \n",
       "2658       0  76.0             0              0             1   \n",
       "\n",
       "      avg_glucose_level   bmi  stroke  work_type_Govt_job  work_type_Private  \\\n",
       "2321              78.90  26.7       0                   0                  1   \n",
       "656               67.97  29.4       0                   0                  0   \n",
       "4194             208.39  36.0       0                   1                  0   \n",
       "2741             100.03  23.5       0                   0                  1   \n",
       "2658             192.39  31.0       0                   0                  1   \n",
       "\n",
       "      work_type_Self-employed  work_type_children  Residence_type_Rural  \\\n",
       "2321                        0                   0                     0   \n",
       "656                         1                   0                     1   \n",
       "4194                        0                   0                     0   \n",
       "2741                        0                   0                     0   \n",
       "2658                        0                   0                     0   \n",
       "\n",
       "      Residence_type_Urban  smoking_status_Unknown  \\\n",
       "2321                     1                       0   \n",
       "656                      0                       0   \n",
       "4194                     1                       0   \n",
       "2741                     1                       0   \n",
       "2658                     1                       0   \n",
       "\n",
       "      smoking_status_formerly smoked  smoking_status_never smoked  \\\n",
       "2321                               0                            1   \n",
       "656                                0                            0   \n",
       "4194                               1                            0   \n",
       "2741                               0                            1   \n",
       "2658                               0                            1   \n",
       "\n",
       "      smoking_status_smokes  \n",
       "2321                      0  \n",
       "656                       1  \n",
       "4194                      0  \n",
       "2741                      0  \n",
       "2658                      0  "
      ]
     },
     "execution_count": 14,
     "metadata": {},
     "output_type": "execute_result"
    }
   ],
   "source": [
    "df = pd.get_dummies(df, columns = ['work_type', 'Residence_type','smoking_status'])\n",
    "df.sample(5)"
   ]
  },
  {
   "cell_type": "code",
   "execution_count": 15,
   "id": "5be3bd5f",
   "metadata": {
    "execution": {
     "iopub.execute_input": "2024-05-17T10:44:28.965050Z",
     "iopub.status.busy": "2024-05-17T10:44:28.964715Z",
     "iopub.status.idle": "2024-05-17T10:44:28.972880Z",
     "shell.execute_reply": "2024-05-17T10:44:28.972026Z"
    },
    "papermill": {
     "duration": 0.037029,
     "end_time": "2024-05-17T10:44:28.974841",
     "exception": false,
     "start_time": "2024-05-17T10:44:28.937812",
     "status": "completed"
    },
    "tags": []
   },
   "outputs": [
    {
     "data": {
      "text/plain": [
       "gender                            0\n",
       "age                               0\n",
       "hypertension                      0\n",
       "heart_disease                     0\n",
       "ever_married                      0\n",
       "avg_glucose_level                 0\n",
       "bmi                               0\n",
       "stroke                            0\n",
       "work_type_Govt_job                0\n",
       "work_type_Private                 0\n",
       "work_type_Self-employed           0\n",
       "work_type_children                0\n",
       "Residence_type_Rural              0\n",
       "Residence_type_Urban              0\n",
       "smoking_status_Unknown            0\n",
       "smoking_status_formerly smoked    0\n",
       "smoking_status_never smoked       0\n",
       "smoking_status_smokes             0\n",
       "dtype: int64"
      ]
     },
     "execution_count": 15,
     "metadata": {},
     "output_type": "execute_result"
    }
   ],
   "source": [
    "df.isnull().sum()"
   ]
  },
  {
   "cell_type": "markdown",
   "id": "de22d25f",
   "metadata": {
    "papermill": {
     "duration": 0.025859,
     "end_time": "2024-05-17T10:44:29.027063",
     "exception": false,
     "start_time": "2024-05-17T10:44:29.001204",
     "status": "completed"
    },
    "tags": []
   },
   "source": [
    "Let's see of the data is imbalanced or not?"
   ]
  },
  {
   "cell_type": "code",
   "execution_count": 16,
   "id": "84451403",
   "metadata": {
    "execution": {
     "iopub.execute_input": "2024-05-17T10:44:29.081682Z",
     "iopub.status.busy": "2024-05-17T10:44:29.081392Z",
     "iopub.status.idle": "2024-05-17T10:44:29.088528Z",
     "shell.execute_reply": "2024-05-17T10:44:29.087690Z"
    },
    "papermill": {
     "duration": 0.036146,
     "end_time": "2024-05-17T10:44:29.090627",
     "exception": false,
     "start_time": "2024-05-17T10:44:29.054481",
     "status": "completed"
    },
    "tags": []
   },
   "outputs": [
    {
     "data": {
      "text/plain": [
       "0    4733\n",
       "1     248\n",
       "Name: stroke, dtype: int64"
      ]
     },
     "execution_count": 16,
     "metadata": {},
     "output_type": "execute_result"
    }
   ],
   "source": [
    "df['stroke'].value_counts()"
   ]
  },
  {
   "cell_type": "markdown",
   "id": "131552d6",
   "metadata": {
    "papermill": {
     "duration": 0.026066,
     "end_time": "2024-05-17T10:44:29.143233",
     "exception": false,
     "start_time": "2024-05-17T10:44:29.117167",
     "status": "completed"
    },
    "tags": []
   },
   "source": [
    "<h3 style='background:#F1C4EF; border:1; border-radius:10px; color:black'><center>Target and Feature values / Train Test Split</center></h3>"
   ]
  },
  {
   "cell_type": "code",
   "execution_count": 17,
   "id": "2f96df0c",
   "metadata": {
    "execution": {
     "iopub.execute_input": "2024-05-17T10:44:29.197140Z",
     "iopub.status.busy": "2024-05-17T10:44:29.196492Z",
     "iopub.status.idle": "2024-05-17T10:44:29.202083Z",
     "shell.execute_reply": "2024-05-17T10:44:29.201093Z"
    },
    "papermill": {
     "duration": 0.03417,
     "end_time": "2024-05-17T10:44:29.204094",
     "exception": false,
     "start_time": "2024-05-17T10:44:29.169924",
     "status": "completed"
    },
    "tags": []
   },
   "outputs": [],
   "source": [
    "X = df.drop(['stroke'], axis = 1)\n",
    "y = df['stroke']"
   ]
  },
  {
   "cell_type": "code",
   "execution_count": 18,
   "id": "9a59b37e",
   "metadata": {
    "execution": {
     "iopub.execute_input": "2024-05-17T10:44:29.258436Z",
     "iopub.status.busy": "2024-05-17T10:44:29.257681Z",
     "iopub.status.idle": "2024-05-17T10:44:29.266810Z",
     "shell.execute_reply": "2024-05-17T10:44:29.265958Z"
    },
    "papermill": {
     "duration": 0.038478,
     "end_time": "2024-05-17T10:44:29.269010",
     "exception": false,
     "start_time": "2024-05-17T10:44:29.230532",
     "status": "completed"
    },
    "tags": []
   },
   "outputs": [
    {
     "data": {
      "text/plain": [
       "((3337, 17), (1644, 17))"
      ]
     },
     "execution_count": 18,
     "metadata": {},
     "output_type": "execute_result"
    }
   ],
   "source": [
    "X_train, X_test, y_train , y_test = train_test_split(X,y, test_size = 0.33, random_state = 42)\n",
    "X_train.shape, X_test.shape"
   ]
  },
  {
   "cell_type": "markdown",
   "id": "792db2df",
   "metadata": {
    "papermill": {
     "duration": 0.026056,
     "end_time": "2024-05-17T10:44:29.321184",
     "exception": false,
     "start_time": "2024-05-17T10:44:29.295128",
     "status": "completed"
    },
    "tags": []
   },
   "source": [
    "<a id=\"title-six\"></a>\n",
    "<h1 style='background:#C4F1E8; border:2; border-radius: 10px; color:black'><center>MODEL BUILDING</center></h1>"
   ]
  },
  {
   "cell_type": "markdown",
   "id": "80aa6484",
   "metadata": {
    "papermill": {
     "duration": 0.026613,
     "end_time": "2024-05-17T10:44:29.374395",
     "exception": false,
     "start_time": "2024-05-17T10:44:29.347782",
     "status": "completed"
    },
    "tags": []
   },
   "source": [
    "<h3 style='background:#F1C4EF; border:1; border-radius:10px; color:black'><center>Decisiontree Classifier and Gini method</center></h3>"
   ]
  },
  {
   "cell_type": "code",
   "execution_count": 19,
   "id": "b6979e31",
   "metadata": {
    "execution": {
     "iopub.execute_input": "2024-05-17T10:44:29.428536Z",
     "iopub.status.busy": "2024-05-17T10:44:29.428225Z",
     "iopub.status.idle": "2024-05-17T10:44:29.445672Z",
     "shell.execute_reply": "2024-05-17T10:44:29.444671Z"
    },
    "papermill": {
     "duration": 0.047171,
     "end_time": "2024-05-17T10:44:29.447891",
     "exception": false,
     "start_time": "2024-05-17T10:44:29.400720",
     "status": "completed"
    },
    "tags": []
   },
   "outputs": [],
   "source": [
    "clf_gini = DecisionTreeClassifier(criterion='gini', random_state=0,max_depth= 5)\n",
    "clf_gini.fit(X_train, y_train)\n",
    "y_pred_gini = clf_gini.predict(X_test)"
   ]
  },
  {
   "cell_type": "markdown",
   "id": "db0117c8",
   "metadata": {
    "papermill": {
     "duration": 0.026389,
     "end_time": "2024-05-17T10:44:29.500967",
     "exception": false,
     "start_time": "2024-05-17T10:44:29.474578",
     "status": "completed"
    },
    "tags": []
   },
   "source": [
    "<h3 style='background:#F1C4EF; border:1; border-radius:10px; color:black'><center>Model accuracy score</center></h3>"
   ]
  },
  {
   "cell_type": "code",
   "execution_count": 20,
   "id": "99ae0631",
   "metadata": {
    "execution": {
     "iopub.execute_input": "2024-05-17T10:44:29.555421Z",
     "iopub.status.busy": "2024-05-17T10:44:29.555109Z",
     "iopub.status.idle": "2024-05-17T10:44:29.568623Z",
     "shell.execute_reply": "2024-05-17T10:44:29.567362Z"
    },
    "papermill": {
     "duration": 0.043344,
     "end_time": "2024-05-17T10:44:29.570866",
     "exception": false,
     "start_time": "2024-05-17T10:44:29.527522",
     "status": "completed"
    },
    "tags": []
   },
   "outputs": [
    {
     "name": "stdout",
     "output_type": "stream",
     "text": [
      "[[1559    0]\n",
      " [  81    4]]\n",
      "The classification report is:\n",
      "              precision    recall  f1-score   support\n",
      "\n",
      "           0       0.95      1.00      0.97      1559\n",
      "           1       1.00      0.05      0.09        85\n",
      "\n",
      "    accuracy                           0.95      1644\n",
      "   macro avg       0.98      0.52      0.53      1644\n",
      "weighted avg       0.95      0.95      0.93      1644\n",
      "\n"
     ]
    }
   ],
   "source": [
    "print(confusion_matrix(y_test,y_pred_gini))\n",
    "print('The classification report is:\\n{:}'.format(classification_report(y_test,y_pred_gini)))"
   ]
  },
  {
   "cell_type": "code",
   "execution_count": 21,
   "id": "7d8de794",
   "metadata": {
    "execution": {
     "iopub.execute_input": "2024-05-17T10:44:29.625172Z",
     "iopub.status.busy": "2024-05-17T10:44:29.624878Z",
     "iopub.status.idle": "2024-05-17T10:44:29.632392Z",
     "shell.execute_reply": "2024-05-17T10:44:29.631451Z"
    },
    "papermill": {
     "duration": 0.036987,
     "end_time": "2024-05-17T10:44:29.634730",
     "exception": false,
     "start_time": "2024-05-17T10:44:29.597743",
     "status": "completed"
    },
    "tags": []
   },
   "outputs": [
    {
     "data": {
      "text/plain": [
       "0    4733\n",
       "1     248\n",
       "Name: stroke, dtype: int64"
      ]
     },
     "execution_count": 21,
     "metadata": {},
     "output_type": "execute_result"
    }
   ],
   "source": [
    "df['stroke'].value_counts()"
   ]
  },
  {
   "cell_type": "markdown",
   "id": "a6317102",
   "metadata": {
    "papermill": {
     "duration": 0.026795,
     "end_time": "2024-05-17T10:44:29.688210",
     "exception": false,
     "start_time": "2024-05-17T10:44:29.661415",
     "status": "completed"
    },
    "tags": []
   },
   "source": [
    "### The confusion  matrix and classification report shows that the model prediction is not going to be acceptable as the data is imbalance. The model predicted 81 Flase Negative which means that we did not predict 81 cases which are going to have stroke! Then it is a disaster!"
   ]
  },
  {
   "cell_type": "markdown",
   "id": "55d50d3a",
   "metadata": {
    "papermill": {
     "duration": 0.026555,
     "end_time": "2024-05-17T10:44:29.742003",
     "exception": false,
     "start_time": "2024-05-17T10:44:29.715448",
     "status": "completed"
    },
    "tags": []
   },
   "source": [
    "<h3 style='background:#F1C4EF; border:1; border-radius:10px; color:black'><center>Under Sampling the data</center></h3>"
   ]
  },
  {
   "cell_type": "markdown",
   "id": "41fe3d74",
   "metadata": {
    "papermill": {
     "duration": 0.027272,
     "end_time": "2024-05-17T10:44:29.796596",
     "exception": false,
     "start_time": "2024-05-17T10:44:29.769324",
     "status": "completed"
    },
    "tags": []
   },
   "source": [
    "#### To fix this issue, I decided to undersample the data:"
   ]
  },
  {
   "cell_type": "code",
   "execution_count": 22,
   "id": "dd2fe917",
   "metadata": {
    "execution": {
     "iopub.execute_input": "2024-05-17T10:44:29.852849Z",
     "iopub.status.busy": "2024-05-17T10:44:29.851942Z",
     "iopub.status.idle": "2024-05-17T10:44:29.867249Z",
     "shell.execute_reply": "2024-05-17T10:44:29.866173Z"
    },
    "papermill": {
     "duration": 0.045319,
     "end_time": "2024-05-17T10:44:29.869342",
     "exception": false,
     "start_time": "2024-05-17T10:44:29.824023",
     "status": "completed"
    },
    "tags": []
   },
   "outputs": [
    {
     "name": "stdout",
     "output_type": "stream",
     "text": [
      "[(0, 248), (1, 248)]\n"
     ]
    }
   ],
   "source": [
    "undersample = RandomUnderSampler(sampling_strategy='majority')\n",
    "X_under, y_under = undersample.fit_resample(X, y)\n",
    "print(sorted(Counter(y_under).items()))"
   ]
  },
  {
   "cell_type": "markdown",
   "id": "e4c9bbc2",
   "metadata": {
    "papermill": {
     "duration": 0.027009,
     "end_time": "2024-05-17T10:44:29.924670",
     "exception": false,
     "start_time": "2024-05-17T10:44:29.897661",
     "status": "completed"
    },
    "tags": []
   },
   "source": [
    "#### Splitting the new train and test using our undersampled data"
   ]
  },
  {
   "cell_type": "code",
   "execution_count": 23,
   "id": "7a136c7d",
   "metadata": {
    "execution": {
     "iopub.execute_input": "2024-05-17T10:44:29.979417Z",
     "iopub.status.busy": "2024-05-17T10:44:29.979114Z",
     "iopub.status.idle": "2024-05-17T10:44:29.987849Z",
     "shell.execute_reply": "2024-05-17T10:44:29.986936Z"
    },
    "papermill": {
     "duration": 0.038134,
     "end_time": "2024-05-17T10:44:29.989957",
     "exception": false,
     "start_time": "2024-05-17T10:44:29.951823",
     "status": "completed"
    },
    "tags": []
   },
   "outputs": [
    {
     "data": {
      "text/plain": [
       "((332, 17), (164, 17))"
      ]
     },
     "execution_count": 23,
     "metadata": {},
     "output_type": "execute_result"
    }
   ],
   "source": [
    "X_train_rs, X_test_rs, y_train_rs , y_test_rs = train_test_split(X_under,y_under, test_size = 0.33, random_state = 43)\n",
    "X_train_rs.shape, X_test_rs.shape"
   ]
  },
  {
   "cell_type": "markdown",
   "id": "2e602fd5",
   "metadata": {
    "papermill": {
     "duration": 0.02609,
     "end_time": "2024-05-17T10:44:30.042441",
     "exception": false,
     "start_time": "2024-05-17T10:44:30.016351",
     "status": "completed"
    },
    "tags": []
   },
   "source": [
    "#### Fitting the model again:"
   ]
  },
  {
   "cell_type": "code",
   "execution_count": 24,
   "id": "da4a5446",
   "metadata": {
    "execution": {
     "iopub.execute_input": "2024-05-17T10:44:30.097642Z",
     "iopub.status.busy": "2024-05-17T10:44:30.097350Z",
     "iopub.status.idle": "2024-05-17T10:44:30.108429Z",
     "shell.execute_reply": "2024-05-17T10:44:30.107554Z"
    },
    "papermill": {
     "duration": 0.040348,
     "end_time": "2024-05-17T10:44:30.110403",
     "exception": false,
     "start_time": "2024-05-17T10:44:30.070055",
     "status": "completed"
    },
    "tags": []
   },
   "outputs": [
    {
     "data": {
      "text/plain": [
       "DecisionTreeClassifier(max_depth=5, random_state=0)"
      ]
     },
     "execution_count": 24,
     "metadata": {},
     "output_type": "execute_result"
    }
   ],
   "source": [
    "clf_gini.fit(X_train_rs,y_train_rs)"
   ]
  },
  {
   "cell_type": "markdown",
   "id": "7c48c6b6",
   "metadata": {
    "papermill": {
     "duration": 0.026724,
     "end_time": "2024-05-17T10:44:30.163608",
     "exception": false,
     "start_time": "2024-05-17T10:44:30.136884",
     "status": "completed"
    },
    "tags": []
   },
   "source": [
    "#### And prediction:"
   ]
  },
  {
   "cell_type": "code",
   "execution_count": 25,
   "id": "082f65d4",
   "metadata": {
    "execution": {
     "iopub.execute_input": "2024-05-17T10:44:30.219300Z",
     "iopub.status.busy": "2024-05-17T10:44:30.219027Z",
     "iopub.status.idle": "2024-05-17T10:44:30.232114Z",
     "shell.execute_reply": "2024-05-17T10:44:30.231079Z"
    },
    "papermill": {
     "duration": 0.043561,
     "end_time": "2024-05-17T10:44:30.234148",
     "exception": false,
     "start_time": "2024-05-17T10:44:30.190587",
     "status": "completed"
    },
    "tags": []
   },
   "outputs": [
    {
     "name": "stdout",
     "output_type": "stream",
     "text": [
      "[[56 27]\n",
      " [27 54]]\n",
      "The classification report is:\n",
      "              precision    recall  f1-score   support\n",
      "\n",
      "           0       0.67      0.67      0.67        83\n",
      "           1       0.67      0.67      0.67        81\n",
      "\n",
      "    accuracy                           0.67       164\n",
      "   macro avg       0.67      0.67      0.67       164\n",
      "weighted avg       0.67      0.67      0.67       164\n",
      "\n"
     ]
    }
   ],
   "source": [
    "y_pred_rs = clf_gini.predict(X_test_rs)\n",
    "print(confusion_matrix(y_test_rs,y_pred_rs))\n",
    "print('The classification report is:\\n{:}'.format(classification_report(y_test_rs,y_pred_rs)))"
   ]
  },
  {
   "cell_type": "markdown",
   "id": "394ceac1",
   "metadata": {
    "papermill": {
     "duration": 0.026516,
     "end_time": "2024-05-17T10:44:30.288262",
     "exception": false,
     "start_time": "2024-05-17T10:44:30.261746",
     "status": "completed"
    },
    "tags": []
   },
   "source": [
    "#### Now the data is balanced but the model prediction si not good as enough. let's see what happened if we fit the random forest classifier:\n"
   ]
  },
  {
   "cell_type": "markdown",
   "id": "b56bd14d",
   "metadata": {
    "papermill": {
     "duration": 0.026374,
     "end_time": "2024-05-17T10:44:30.341561",
     "exception": false,
     "start_time": "2024-05-17T10:44:30.315187",
     "status": "completed"
    },
    "tags": []
   },
   "source": [
    "<h3 style='background:#F1C4EF; border:1; border-radius:10px; color:black'><center>Random Forest Classifier</center></h3>"
   ]
  },
  {
   "cell_type": "code",
   "execution_count": 26,
   "id": "684cabe4",
   "metadata": {
    "execution": {
     "iopub.execute_input": "2024-05-17T10:44:30.397073Z",
     "iopub.status.busy": "2024-05-17T10:44:30.396367Z",
     "iopub.status.idle": "2024-05-17T10:44:30.596319Z",
     "shell.execute_reply": "2024-05-17T10:44:30.595364Z"
    },
    "papermill": {
     "duration": 0.23055,
     "end_time": "2024-05-17T10:44:30.598936",
     "exception": false,
     "start_time": "2024-05-17T10:44:30.368386",
     "status": "completed"
    },
    "tags": []
   },
   "outputs": [
    {
     "data": {
      "text/plain": [
       "RandomForestClassifier()"
      ]
     },
     "execution_count": 26,
     "metadata": {},
     "output_type": "execute_result"
    }
   ],
   "source": [
    "rfc = RandomForestClassifier()\n",
    "rfc.fit(X_train_rs,y_train_rs)"
   ]
  },
  {
   "cell_type": "code",
   "execution_count": 27,
   "id": "7630b5c6",
   "metadata": {
    "execution": {
     "iopub.execute_input": "2024-05-17T10:44:30.654927Z",
     "iopub.status.busy": "2024-05-17T10:44:30.654597Z",
     "iopub.status.idle": "2024-05-17T10:44:30.675899Z",
     "shell.execute_reply": "2024-05-17T10:44:30.674835Z"
    },
    "papermill": {
     "duration": 0.051172,
     "end_time": "2024-05-17T10:44:30.678168",
     "exception": false,
     "start_time": "2024-05-17T10:44:30.626996",
     "status": "completed"
    },
    "tags": []
   },
   "outputs": [
    {
     "name": "stdout",
     "output_type": "stream",
     "text": [
      "[[51 32]\n",
      " [16 65]]\n"
     ]
    }
   ],
   "source": [
    "y_pred_rfc = rfc.predict(X_test_rs)\n",
    "print(confusion_matrix(y_test_rs,y_pred_rfc))"
   ]
  },
  {
   "cell_type": "markdown",
   "id": "257f6e54",
   "metadata": {
    "papermill": {
     "duration": 0.02686,
     "end_time": "2024-05-17T10:44:30.732066",
     "exception": false,
     "start_time": "2024-05-17T10:44:30.705206",
     "status": "completed"
    },
    "tags": []
   },
   "source": [
    "#### a little better, Now let's do the hyperparameter tuning"
   ]
  },
  {
   "cell_type": "markdown",
   "id": "6776f5d9",
   "metadata": {
    "papermill": {
     "duration": 0.026916,
     "end_time": "2024-05-17T10:44:30.785957",
     "exception": false,
     "start_time": "2024-05-17T10:44:30.759041",
     "status": "completed"
    },
    "tags": []
   },
   "source": [
    "<h3 style='background:#F1C4EF; border:1; border-radius:10px; color:black'><center>Hyperparameter tuning</center></h3>"
   ]
  },
  {
   "cell_type": "code",
   "execution_count": 28,
   "id": "9f0847cd",
   "metadata": {
    "_kg_hide-output": true,
    "execution": {
     "iopub.execute_input": "2024-05-17T10:44:30.841336Z",
     "iopub.status.busy": "2024-05-17T10:44:30.841027Z",
     "iopub.status.idle": "2024-05-17T10:44:42.792851Z",
     "shell.execute_reply": "2024-05-17T10:44:42.791581Z"
    },
    "papermill": {
     "duration": 11.982564,
     "end_time": "2024-05-17T10:44:42.795387",
     "exception": false,
     "start_time": "2024-05-17T10:44:30.812823",
     "status": "completed"
    },
    "tags": []
   },
   "outputs": [
    {
     "name": "stdout",
     "output_type": "stream",
     "text": [
      "Fitting 5 folds for each of 10 candidates, totalling 50 fits\n",
      "[CV] END criterion=gini, max_depth=4, min_samples_leaf=4, min_samples_split=6, n_estimators=90; total time=   0.2s\n",
      "[CV] END criterion=gini, max_depth=4, min_samples_leaf=4, min_samples_split=6, n_estimators=90; total time=   0.2s\n",
      "[CV] END criterion=gini, max_depth=4, min_samples_leaf=4, min_samples_split=6, n_estimators=90; total time=   0.2s\n",
      "[CV] END criterion=gini, max_depth=4, min_samples_leaf=4, min_samples_split=6, n_estimators=90; total time=   0.2s\n",
      "[CV] END criterion=gini, max_depth=4, min_samples_leaf=4, min_samples_split=6, n_estimators=90; total time=   0.2s\n",
      "[CV] END criterion=gini, max_depth=16, min_samples_leaf=9, min_samples_split=8, n_estimators=90; total time=   0.2s\n",
      "[CV] END criterion=gini, max_depth=16, min_samples_leaf=9, min_samples_split=8, n_estimators=90; total time=   0.2s\n",
      "[CV] END criterion=gini, max_depth=16, min_samples_leaf=9, min_samples_split=8, n_estimators=90; total time=   0.2s\n",
      "[CV] END criterion=gini, max_depth=16, min_samples_leaf=9, min_samples_split=8, n_estimators=90; total time=   0.2s\n",
      "[CV] END criterion=gini, max_depth=16, min_samples_leaf=9, min_samples_split=8, n_estimators=90; total time=   0.2s\n",
      "[CV] END criterion=gini, max_depth=16, min_samples_leaf=5, min_samples_split=7, n_estimators=100; total time=   0.2s\n",
      "[CV] END criterion=gini, max_depth=16, min_samples_leaf=5, min_samples_split=7, n_estimators=100; total time=   0.2s\n",
      "[CV] END criterion=gini, max_depth=16, min_samples_leaf=5, min_samples_split=7, n_estimators=100; total time=   0.2s\n",
      "[CV] END criterion=gini, max_depth=16, min_samples_leaf=5, min_samples_split=7, n_estimators=100; total time=   0.2s\n",
      "[CV] END criterion=gini, max_depth=16, min_samples_leaf=5, min_samples_split=7, n_estimators=100; total time=   0.2s\n",
      "[CV] END criterion=gini, max_depth=16, min_samples_leaf=4, min_samples_split=8, n_estimators=100; total time=   0.2s\n",
      "[CV] END criterion=gini, max_depth=16, min_samples_leaf=4, min_samples_split=8, n_estimators=100; total time=   0.2s\n",
      "[CV] END criterion=gini, max_depth=16, min_samples_leaf=4, min_samples_split=8, n_estimators=100; total time=   0.2s\n",
      "[CV] END criterion=gini, max_depth=16, min_samples_leaf=4, min_samples_split=8, n_estimators=100; total time=   0.2s\n",
      "[CV] END criterion=gini, max_depth=16, min_samples_leaf=4, min_samples_split=8, n_estimators=100; total time=   0.2s\n",
      "[CV] END criterion=gini, max_depth=12, min_samples_leaf=5, min_samples_split=4, n_estimators=115; total time=   0.2s\n",
      "[CV] END criterion=gini, max_depth=12, min_samples_leaf=5, min_samples_split=4, n_estimators=115; total time=   0.2s\n",
      "[CV] END criterion=gini, max_depth=12, min_samples_leaf=5, min_samples_split=4, n_estimators=115; total time=   0.2s\n",
      "[CV] END criterion=gini, max_depth=12, min_samples_leaf=5, min_samples_split=4, n_estimators=115; total time=   0.2s\n",
      "[CV] END criterion=gini, max_depth=12, min_samples_leaf=5, min_samples_split=4, n_estimators=115; total time=   0.2s\n",
      "[CV] END criterion=gini, max_depth=10, min_samples_leaf=6, min_samples_split=4, n_estimators=115; total time=   0.2s\n",
      "[CV] END criterion=gini, max_depth=10, min_samples_leaf=6, min_samples_split=4, n_estimators=115; total time=   0.2s\n",
      "[CV] END criterion=gini, max_depth=10, min_samples_leaf=6, min_samples_split=4, n_estimators=115; total time=   0.2s\n",
      "[CV] END criterion=gini, max_depth=10, min_samples_leaf=6, min_samples_split=4, n_estimators=115; total time=   0.2s\n",
      "[CV] END criterion=gini, max_depth=10, min_samples_leaf=6, min_samples_split=4, n_estimators=115; total time=   0.2s\n",
      "[CV] END criterion=gini, max_depth=17, min_samples_leaf=9, min_samples_split=4, n_estimators=200; total time=   0.4s\n",
      "[CV] END criterion=gini, max_depth=17, min_samples_leaf=9, min_samples_split=4, n_estimators=200; total time=   0.4s\n",
      "[CV] END criterion=gini, max_depth=17, min_samples_leaf=9, min_samples_split=4, n_estimators=200; total time=   0.4s\n",
      "[CV] END criterion=gini, max_depth=17, min_samples_leaf=9, min_samples_split=4, n_estimators=200; total time=   0.4s\n",
      "[CV] END criterion=gini, max_depth=17, min_samples_leaf=9, min_samples_split=4, n_estimators=200; total time=   0.4s\n",
      "[CV] END criterion=gini, max_depth=19, min_samples_leaf=4, min_samples_split=7, n_estimators=90; total time=   0.2s\n",
      "[CV] END criterion=gini, max_depth=19, min_samples_leaf=4, min_samples_split=7, n_estimators=90; total time=   0.2s\n",
      "[CV] END criterion=gini, max_depth=19, min_samples_leaf=4, min_samples_split=7, n_estimators=90; total time=   0.2s\n",
      "[CV] END criterion=gini, max_depth=19, min_samples_leaf=4, min_samples_split=7, n_estimators=90; total time=   0.2s\n",
      "[CV] END criterion=gini, max_depth=19, min_samples_leaf=4, min_samples_split=7, n_estimators=90; total time=   0.2s\n",
      "[CV] END criterion=gini, max_depth=3, min_samples_leaf=3, min_samples_split=7, n_estimators=100; total time=   0.2s\n",
      "[CV] END criterion=gini, max_depth=3, min_samples_leaf=3, min_samples_split=7, n_estimators=100; total time=   0.2s\n",
      "[CV] END criterion=gini, max_depth=3, min_samples_leaf=3, min_samples_split=7, n_estimators=100; total time=   0.2s\n",
      "[CV] END criterion=gini, max_depth=3, min_samples_leaf=3, min_samples_split=7, n_estimators=100; total time=   0.2s\n",
      "[CV] END criterion=gini, max_depth=3, min_samples_leaf=3, min_samples_split=7, n_estimators=100; total time=   0.2s\n",
      "[CV] END criterion=gini, max_depth=16, min_samples_leaf=8, min_samples_split=4, n_estimators=200; total time=   0.4s\n",
      "[CV] END criterion=gini, max_depth=16, min_samples_leaf=8, min_samples_split=4, n_estimators=200; total time=   0.4s\n",
      "[CV] END criterion=gini, max_depth=16, min_samples_leaf=8, min_samples_split=4, n_estimators=200; total time=   0.4s\n",
      "[CV] END criterion=gini, max_depth=16, min_samples_leaf=8, min_samples_split=4, n_estimators=200; total time=   0.4s\n",
      "[CV] END criterion=gini, max_depth=16, min_samples_leaf=8, min_samples_split=4, n_estimators=200; total time=   0.4s\n"
     ]
    },
    {
     "data": {
      "text/plain": [
       "RandomizedSearchCV(cv=5, estimator=RandomForestClassifier(),\n",
       "                   param_distributions={'criterion': ['gini'],\n",
       "                                        'max_depth': range(2, 20),\n",
       "                                        'min_samples_leaf': range(1, 10),\n",
       "                                        'min_samples_split': range(2, 10),\n",
       "                                        'n_estimators': [90, 100, 115, 130,\n",
       "                                                         200]},\n",
       "                   random_state=42, verbose=2)"
      ]
     },
     "execution_count": 28,
     "metadata": {},
     "output_type": "execute_result"
    }
   ],
   "source": [
    "from sklearn.model_selection import RandomizedSearchCV\n",
    "n_estimators = [90,100,115,130, 200]\n",
    "max_depth = range(2,20,1)\n",
    "min_samples_split = range(2,10,1)\n",
    "min_samples_leaf = range(1,10,1)\n",
    "criterion = ['gini']\n",
    "\n",
    "param = dict(n_estimators = n_estimators, max_depth = max_depth,  \n",
    "              min_samples_split = min_samples_split, \n",
    "             min_samples_leaf = min_samples_leaf,\n",
    "             criterion = criterion)\n",
    "rfc_random = RandomizedSearchCV(estimator = rfc, param_distributions = param, cv = 5, verbose=2, random_state=42)\n",
    "rfc_random.fit(X_train_rs, y_train_rs)"
   ]
  },
  {
   "cell_type": "code",
   "execution_count": 29,
   "id": "65999e97",
   "metadata": {
    "execution": {
     "iopub.execute_input": "2024-05-17T10:44:42.860922Z",
     "iopub.status.busy": "2024-05-17T10:44:42.860590Z",
     "iopub.status.idle": "2024-05-17T10:44:42.887928Z",
     "shell.execute_reply": "2024-05-17T10:44:42.886700Z"
    },
    "papermill": {
     "duration": 0.060869,
     "end_time": "2024-05-17T10:44:42.890116",
     "exception": false,
     "start_time": "2024-05-17T10:44:42.829247",
     "status": "completed"
    },
    "tags": []
   },
   "outputs": [
    {
     "name": "stdout",
     "output_type": "stream",
     "text": [
      "[[53 30]\n",
      " [11 70]]\n",
      "The accuracy is: 0.7500\n",
      "The classification report is:\n",
      "              precision    recall  f1-score   support\n",
      "\n",
      "           0       0.83      0.64      0.72        83\n",
      "           1       0.70      0.86      0.77        81\n",
      "\n",
      "    accuracy                           0.75       164\n",
      "   macro avg       0.76      0.75      0.75       164\n",
      "weighted avg       0.76      0.75      0.75       164\n",
      "\n"
     ]
    }
   ],
   "source": [
    "y_pred_rfc_random = rfc_random.predict(X_test_rs)\n",
    "print(confusion_matrix(y_test_rs,y_pred_rfc_random))\n",
    "print('The accuracy is: {:.4f}'.format(accuracy_score(y_test_rs,y_pred_rfc_random)))\n",
    "print('The classification report is:\\n{:}'.format(classification_report(y_test_rs,y_pred_rfc_random)))"
   ]
  },
  {
   "cell_type": "markdown",
   "id": "7252e0da",
   "metadata": {
    "papermill": {
     "duration": 0.029911,
     "end_time": "2024-05-17T10:44:42.950174",
     "exception": false,
     "start_time": "2024-05-17T10:44:42.920263",
     "status": "completed"
    },
    "tags": []
   },
   "source": [
    "#### This is what we get from the random forest at the best case.\n",
    "#### I will continue this notebook to add more algorithms and Thanks to people who's comments make this notebook be more valuable. If you have any suggestion, let me know in the comments. "
   ]
  },
  {
   "cell_type": "markdown",
   "id": "7a2bcea3",
   "metadata": {
    "papermill": {
     "duration": 0.033142,
     "end_time": "2024-05-17T10:44:43.013520",
     "exception": false,
     "start_time": "2024-05-17T10:44:42.980378",
     "status": "completed"
    },
    "tags": []
   },
   "source": [
    "##### Thanks to Feedbacks which leads to make this kernel more useful."
   ]
  }
 ],
 "metadata": {
  "kaggle": {
   "accelerator": "none",
   "dataSources": [
    {
     "datasetId": 2343381,
     "sourceId": 3949526,
     "sourceType": "datasetVersion"
    }
   ],
   "dockerImageVersionId": 30213,
   "isGpuEnabled": false,
   "isInternetEnabled": true,
   "language": "python",
   "sourceType": "notebook"
  },
  "kernelspec": {
   "display_name": "Python 3",
   "language": "python",
   "name": "python3"
  },
  "language_info": {
   "codemirror_mode": {
    "name": "ipython",
    "version": 3
   },
   "file_extension": ".py",
   "mimetype": "text/x-python",
   "name": "python",
   "nbconvert_exporter": "python",
   "pygments_lexer": "ipython3",
   "version": "3.7.12"
  },
  "papermill": {
   "default_parameters": {},
   "duration": 30.280893,
   "end_time": "2024-05-17T10:44:44.066251",
   "environment_variables": {},
   "exception": null,
   "input_path": "__notebook__.ipynb",
   "output_path": "__notebook__.ipynb",
   "parameters": {},
   "start_time": "2024-05-17T10:44:13.785358",
   "version": "2.3.4"
  }
 },
 "nbformat": 4,
 "nbformat_minor": 5
}
